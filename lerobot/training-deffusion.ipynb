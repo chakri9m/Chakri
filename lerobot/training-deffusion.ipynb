{
  "cells": [
    {
      "cell_type": "markdown",
      "metadata": {
        "id": "view-in-github",
        "colab_type": "text"
      },
      "source": [
        "<a href=\"https://colab.research.google.com/github/chakri9m/Chakri/blob/main/lerobot/training-deffusion.ipynb\" target=\"_parent\"><img src=\"https://colab.research.google.com/assets/colab-badge.svg\" alt=\"Open In Colab\"/></a>"
      ]
    },
    {
      "cell_type": "markdown",
      "metadata": {
        "id": "NQUk3Y0WwYZ4"
      },
      "source": [
        "# 🤗 x 🦾: Training SmolVLA with LeRobot Notebook\n",
        "\n",
        "Welcome to the **LeRobot SmolVLA training notebook**! This notebook provides a ready-to-run setup for training imitation learning policies using the [🤗 LeRobot](https://github.com/huggingface/lerobot) library.\n",
        "\n",
        "In this example, we train an `SmolVLA` policy using a dataset hosted on the [Hugging Face Hub](https://huggingface.co/), and optionally track training metrics with [Weights & Biases (wandb)](https://wandb.ai/).\n",
        "\n",
        "## ⚙️ Requirements\n",
        "- A Hugging Face dataset repo ID containing your training data (`--dataset.repo_id=YOUR_USERNAME/YOUR_DATASET`)\n",
        "- Optional: A [wandb](https://wandb.ai/) account if you want to enable training visualization\n",
        "- Recommended: GPU runtime (e.g., NVIDIA A100) for faster training\n",
        "\n",
        "## ⏱️ Expected Training Time\n",
        "Training with the `SmolVLA` policy for 20,000 steps typically takes **about 5 hours on an NVIDIA A100** GPU. On less powerful GPUs or CPUs, training may take significantly longer!\n",
        "\n",
        "## Example Output\n",
        "Model checkpoints, logs, and training plots will be saved to the specified `--output_dir`. If `wandb` is enabled, progress will also be visualized in your wandb project dashboard.\n"
      ]
    },
    {
      "cell_type": "markdown",
      "metadata": {
        "id": "MOJyX0CnwA5m"
      },
      "source": [
        "## Install conda\n",
        "This cell uses `condacolab` to bootstrap a full Conda environment inside Google Colab.\n"
      ]
    },
    {
      "cell_type": "code",
      "execution_count": null,
      "metadata": {
        "colab": {
          "base_uri": "https://localhost:8080/"
        },
        "id": "QlKjL1X5t_zM",
        "outputId": "72ef6a84-0b42-4484-c5f3-a79f084ab58b"
      },
      "outputs": [
        {
          "output_type": "stream",
          "name": "stdout",
          "text": [
            "✨🍰✨ Everything looks OK!\n"
          ]
        }
      ],
      "source": [
        "!pip install -q condacolab\n",
        "import condacolab\n",
        "condacolab.install()"
      ]
    },
    {
      "cell_type": "code",
      "source": [
        "from google.colab import drive\n",
        "drive.mount('/content/drive')"
      ],
      "metadata": {
        "id": "FP1XBLnm_8ZY",
        "outputId": "59c65812-ede8-4b32-f36f-edffdff76a5e",
        "colab": {
          "base_uri": "https://localhost:8080/"
        }
      },
      "execution_count": null,
      "outputs": [
        {
          "output_type": "stream",
          "name": "stdout",
          "text": [
            "Drive already mounted at /content/drive; to attempt to forcibly remount, call drive.mount(\"/content/drive\", force_remount=True).\n"
          ]
        }
      ]
    },
    {
      "cell_type": "markdown",
      "metadata": {
        "id": "DxCc3CARwUjN"
      },
      "source": [
        "## Install LeRobot\n",
        "This cell clones the `lerobot` repository from Hugging Face, installs FFmpeg (version 7.1.1), and installs the package in editable mode.\n"
      ]
    },
    {
      "cell_type": "code",
      "execution_count": null,
      "metadata": {
        "colab": {
          "base_uri": "https://localhost:8080/"
        },
        "id": "dgLu7QT5tUik",
        "outputId": "cc9ee012-9a49-4e77-b466-d795b7c93709",
        "collapsed": true
      },
      "outputs": [
        {
          "output_type": "stream",
          "name": "stdout",
          "text": [
            "fatal: destination path 'lerobot' already exists and is not an empty directory.\n",
            "Channels:\n",
            " - conda-forge\n",
            "Platform: linux-64\n",
            "Collecting package metadata (repodata.json): - \b\b\\ \b\b| \b\b/ \b\b- \b\b\\ \b\b| \b\b/ \b\b- \b\b\\ \b\b| \b\b/ \b\b- \b\b\\ \b\b| \b\b/ \b\b- \b\b\\ \b\bdone\n",
            "Solving environment: / \b\b- \b\b\\ \b\b| \b\b/ \b\b- \b\b\\ \b\b| \b\b/ \b\b- \b\b\\ \b\b| \b\bdone\n",
            "\n",
            "\n",
            "==> WARNING: A newer version of conda exists. <==\n",
            "    current version: 24.11.3\n",
            "    latest version: 25.5.1\n",
            "\n",
            "Please update conda by running\n",
            "\n",
            "    $ conda update -n base -c conda-forge conda\n",
            "\n",
            "\n",
            "\n",
            "# All requested packages already installed.\n",
            "\n",
            "Obtaining file:///content/lerobot\n",
            "  Installing build dependencies ... \u001b[?25l\u001b[?25hdone\n",
            "  Checking if build backend supports build_editable ... \u001b[?25l\u001b[?25hdone\n",
            "  Getting requirements to build editable ... \u001b[?25l\u001b[?25hdone\n",
            "  Preparing editable metadata (pyproject.toml) ... \u001b[?25l\u001b[?25hdone\n",
            "Requirement already satisfied: av>=14.2.0 in /usr/local/lib/python3.11/site-packages (from lerobot==0.1.0) (14.4.0)\n",
            "Requirement already satisfied: cmake>=3.29.0.1 in /usr/local/lib/python3.11/site-packages (from lerobot==0.1.0) (4.0.3)\n",
            "Requirement already satisfied: datasets>=2.19.0 in /usr/local/lib/python3.11/site-packages (from lerobot==0.1.0) (3.6.0)\n",
            "Requirement already satisfied: deepdiff>=7.0.1 in /usr/local/lib/python3.11/site-packages (from lerobot==0.1.0) (8.5.0)\n",
            "Requirement already satisfied: diffusers>=0.27.2 in /usr/local/lib/python3.11/site-packages (from lerobot==0.1.0) (0.34.0)\n",
            "Requirement already satisfied: draccus==0.10.0 in /usr/local/lib/python3.11/site-packages (from lerobot==0.1.0) (0.10.0)\n",
            "Requirement already satisfied: einops>=0.8.0 in /usr/local/lib/python3.11/site-packages (from lerobot==0.1.0) (0.8.1)\n",
            "Requirement already satisfied: flask>=3.0.3 in /usr/local/lib/python3.11/site-packages (from lerobot==0.1.0) (3.1.1)\n",
            "Requirement already satisfied: gdown>=5.1.0 in /usr/local/lib/python3.11/site-packages (from lerobot==0.1.0) (5.2.0)\n",
            "Requirement already satisfied: gymnasium==0.29.1 in /usr/local/lib/python3.11/site-packages (from lerobot==0.1.0) (0.29.1)\n",
            "Requirement already satisfied: h5py>=3.10.0 in /usr/local/lib/python3.11/site-packages (from lerobot==0.1.0) (3.14.0)\n",
            "Requirement already satisfied: huggingface-hub>=0.27.1 in /usr/local/lib/python3.11/site-packages (from huggingface-hub[cli,hf-transfer]>=0.27.1; python_version < \"4.0\"->lerobot==0.1.0) (0.33.1)\n",
            "Requirement already satisfied: imageio>=2.34.0 in /usr/local/lib/python3.11/site-packages (from imageio[ffmpeg]>=2.34.0->lerobot==0.1.0) (2.37.0)\n",
            "Requirement already satisfied: jsonlines>=4.0.0 in /usr/local/lib/python3.11/site-packages (from lerobot==0.1.0) (4.0.0)\n",
            "Requirement already satisfied: numba>=0.59.0 in /usr/local/lib/python3.11/site-packages (from lerobot==0.1.0) (0.61.2)\n",
            "Requirement already satisfied: omegaconf>=2.3.0 in /usr/local/lib/python3.11/site-packages (from lerobot==0.1.0) (2.3.0)\n",
            "Requirement already satisfied: opencv-python-headless>=4.9.0 in /usr/local/lib/python3.11/site-packages (from lerobot==0.1.0) (4.11.0.86)\n",
            "Requirement already satisfied: packaging>=24.2 in /usr/local/lib/python3.11/site-packages (from lerobot==0.1.0) (24.2)\n",
            "Requirement already satisfied: pymunk<7.0.0,>=6.6.0 in /usr/local/lib/python3.11/site-packages (from lerobot==0.1.0) (6.11.1)\n",
            "Requirement already satisfied: pynput>=1.7.7 in /usr/local/lib/python3.11/site-packages (from lerobot==0.1.0) (1.8.1)\n",
            "Requirement already satisfied: pyserial>=3.5 in /usr/local/lib/python3.11/site-packages (from lerobot==0.1.0) (3.5)\n",
            "Requirement already satisfied: pyzmq>=26.2.1 in /usr/local/lib/python3.11/site-packages (from lerobot==0.1.0) (27.0.0)\n",
            "Requirement already satisfied: rerun-sdk>=0.21.0 in /usr/local/lib/python3.11/site-packages (from lerobot==0.1.0) (0.23.4)\n",
            "Requirement already satisfied: scipy>=1.14.0 in /usr/local/lib/python3.11/site-packages (from lerobot==0.1.0) (1.16.0)\n",
            "Requirement already satisfied: termcolor>=2.4.0 in /usr/local/lib/python3.11/site-packages (from lerobot==0.1.0) (3.1.0)\n",
            "Requirement already satisfied: torch>=2.2.1 in /usr/local/lib/python3.11/site-packages (from lerobot==0.1.0) (2.7.1)\n",
            "Requirement already satisfied: torchcodec>=0.2.1 in /usr/local/lib/python3.11/site-packages (from lerobot==0.1.0) (0.4.0)\n",
            "Requirement already satisfied: torchvision>=0.21.0 in /usr/local/lib/python3.11/site-packages (from lerobot==0.1.0) (0.22.1)\n",
            "Requirement already satisfied: wandb>=0.16.3 in /usr/local/lib/python3.11/site-packages (from lerobot==0.1.0) (0.20.1)\n",
            "Requirement already satisfied: zarr>=2.17.0 in /usr/local/lib/python3.11/site-packages (from lerobot==0.1.0) (3.0.8)\n",
            "Requirement already satisfied: mergedeep~=1.3 in /usr/local/lib/python3.11/site-packages (from draccus==0.10.0->lerobot==0.1.0) (1.3.4)\n",
            "Requirement already satisfied: pyyaml~=6.0 in /usr/local/lib/python3.11/site-packages (from draccus==0.10.0->lerobot==0.1.0) (6.0.2)\n",
            "Requirement already satisfied: pyyaml-include~=1.4 in /usr/local/lib/python3.11/site-packages (from draccus==0.10.0->lerobot==0.1.0) (1.4.1)\n",
            "Requirement already satisfied: toml~=0.10 in /usr/local/lib/python3.11/site-packages (from draccus==0.10.0->lerobot==0.1.0) (0.10.2)\n",
            "Requirement already satisfied: typing-inspect~=0.9.0 in /usr/local/lib/python3.11/site-packages (from draccus==0.10.0->lerobot==0.1.0) (0.9.0)\n",
            "Requirement already satisfied: numpy>=1.21.0 in /usr/local/lib/python3.11/site-packages (from gymnasium==0.29.1->lerobot==0.1.0) (2.2.6)\n",
            "Requirement already satisfied: cloudpickle>=1.2.0 in /usr/local/lib/python3.11/site-packages (from gymnasium==0.29.1->lerobot==0.1.0) (3.1.1)\n",
            "Requirement already satisfied: typing-extensions>=4.3.0 in /usr/local/lib/python3.11/site-packages (from gymnasium==0.29.1->lerobot==0.1.0) (4.14.0)\n",
            "Requirement already satisfied: farama-notifications>=0.0.1 in /usr/local/lib/python3.11/site-packages (from gymnasium==0.29.1->lerobot==0.1.0) (0.0.4)\n",
            "Requirement already satisfied: filelock in /usr/local/lib/python3.11/site-packages (from datasets>=2.19.0->lerobot==0.1.0) (3.18.0)\n",
            "Requirement already satisfied: pyarrow>=15.0.0 in /usr/local/lib/python3.11/site-packages (from datasets>=2.19.0->lerobot==0.1.0) (20.0.0)\n",
            "Requirement already satisfied: dill<0.3.9,>=0.3.0 in /usr/local/lib/python3.11/site-packages (from datasets>=2.19.0->lerobot==0.1.0) (0.3.8)\n",
            "Requirement already satisfied: pandas in /usr/local/lib/python3.11/site-packages (from datasets>=2.19.0->lerobot==0.1.0) (2.3.0)\n",
            "Requirement already satisfied: requests>=2.32.2 in /usr/local/lib/python3.11/site-packages (from datasets>=2.19.0->lerobot==0.1.0) (2.32.3)\n",
            "Requirement already satisfied: tqdm>=4.66.3 in /usr/local/lib/python3.11/site-packages (from datasets>=2.19.0->lerobot==0.1.0) (4.67.1)\n",
            "Requirement already satisfied: xxhash in /usr/local/lib/python3.11/site-packages (from datasets>=2.19.0->lerobot==0.1.0) (3.5.0)\n",
            "Requirement already satisfied: multiprocess<0.70.17 in /usr/local/lib/python3.11/site-packages (from datasets>=2.19.0->lerobot==0.1.0) (0.70.16)\n",
            "Requirement already satisfied: fsspec<=2025.3.0,>=2023.1.0 in /usr/local/lib/python3.11/site-packages (from fsspec[http]<=2025.3.0,>=2023.1.0->datasets>=2.19.0->lerobot==0.1.0) (2025.3.0)\n",
            "Requirement already satisfied: orderly-set<6,>=5.4.1 in /usr/local/lib/python3.11/site-packages (from deepdiff>=7.0.1->lerobot==0.1.0) (5.4.1)\n",
            "Requirement already satisfied: importlib_metadata in /usr/local/lib/python3.11/site-packages (from diffusers>=0.27.2->lerobot==0.1.0) (8.7.0)\n",
            "Requirement already satisfied: regex!=2019.12.17 in /usr/local/lib/python3.11/site-packages (from diffusers>=0.27.2->lerobot==0.1.0) (2024.11.6)\n",
            "Requirement already satisfied: safetensors>=0.3.1 in /usr/local/lib/python3.11/site-packages (from diffusers>=0.27.2->lerobot==0.1.0) (0.5.3)\n",
            "Requirement already satisfied: Pillow in /usr/local/lib/python3.11/site-packages (from diffusers>=0.27.2->lerobot==0.1.0) (11.2.1)\n",
            "Requirement already satisfied: blinker>=1.9.0 in /usr/local/lib/python3.11/site-packages (from flask>=3.0.3->lerobot==0.1.0) (1.9.0)\n",
            "Requirement already satisfied: click>=8.1.3 in /usr/local/lib/python3.11/site-packages (from flask>=3.0.3->lerobot==0.1.0) (8.2.1)\n",
            "Requirement already satisfied: itsdangerous>=2.2.0 in /usr/local/lib/python3.11/site-packages (from flask>=3.0.3->lerobot==0.1.0) (2.2.0)\n",
            "Requirement already satisfied: jinja2>=3.1.2 in /usr/local/lib/python3.11/site-packages (from flask>=3.0.3->lerobot==0.1.0) (3.1.6)\n",
            "Requirement already satisfied: markupsafe>=2.1.1 in /usr/local/lib/python3.11/site-packages (from flask>=3.0.3->lerobot==0.1.0) (3.0.2)\n",
            "Requirement already satisfied: werkzeug>=3.1.0 in /usr/local/lib/python3.11/site-packages (from flask>=3.0.3->lerobot==0.1.0) (3.1.3)\n",
            "Requirement already satisfied: beautifulsoup4 in /usr/local/lib/python3.11/site-packages (from gdown>=5.1.0->lerobot==0.1.0) (4.13.4)\n",
            "Requirement already satisfied: hf-xet<2.0.0,>=1.1.2 in /usr/local/lib/python3.11/site-packages (from huggingface-hub>=0.27.1->huggingface-hub[cli,hf-transfer]>=0.27.1; python_version < \"4.0\"->lerobot==0.1.0) (1.1.5)\n",
            "Requirement already satisfied: InquirerPy==0.3.4 in /usr/local/lib/python3.11/site-packages (from huggingface-hub[cli,hf-transfer]>=0.27.1; python_version < \"4.0\"->lerobot==0.1.0) (0.3.4)\n",
            "Requirement already satisfied: hf-transfer>=0.1.4 in /usr/local/lib/python3.11/site-packages (from huggingface-hub[cli,hf-transfer]>=0.27.1; python_version < \"4.0\"->lerobot==0.1.0) (0.1.9)\n",
            "Requirement already satisfied: pfzy<0.4.0,>=0.3.1 in /usr/local/lib/python3.11/site-packages (from InquirerPy==0.3.4->huggingface-hub[cli,hf-transfer]>=0.27.1; python_version < \"4.0\"->lerobot==0.1.0) (0.3.4)\n",
            "Requirement already satisfied: prompt-toolkit<4.0.0,>=3.0.1 in /usr/local/lib/python3.11/site-packages (from InquirerPy==0.3.4->huggingface-hub[cli,hf-transfer]>=0.27.1; python_version < \"4.0\"->lerobot==0.1.0) (3.0.51)\n",
            "Requirement already satisfied: imageio-ffmpeg in /usr/local/lib/python3.11/site-packages (from imageio[ffmpeg]>=2.34.0->lerobot==0.1.0) (0.6.0)\n",
            "Requirement already satisfied: psutil in /usr/local/lib/python3.11/site-packages (from imageio[ffmpeg]>=2.34.0->lerobot==0.1.0) (7.0.0)\n",
            "Requirement already satisfied: attrs>=19.2.0 in /usr/local/lib/python3.11/site-packages (from jsonlines>=4.0.0->lerobot==0.1.0) (25.3.0)\n",
            "Requirement already satisfied: llvmlite<0.45,>=0.44.0dev0 in /usr/local/lib/python3.11/site-packages (from numba>=0.59.0->lerobot==0.1.0) (0.44.0)\n",
            "Requirement already satisfied: antlr4-python3-runtime==4.9.* in /usr/local/lib/python3.11/site-packages (from omegaconf>=2.3.0->lerobot==0.1.0) (4.9.3)\n",
            "Requirement already satisfied: cffi>=1.17.1 in /usr/local/lib/python3.11/site-packages (from pymunk<7.0.0,>=6.6.0->lerobot==0.1.0) (1.17.1)\n",
            "Requirement already satisfied: six in /usr/local/lib/python3.11/site-packages (from pynput>=1.7.7->lerobot==0.1.0) (1.17.0)\n",
            "Requirement already satisfied: evdev>=1.3 in /usr/local/lib/python3.11/site-packages (from pynput>=1.7.7->lerobot==0.1.0) (1.9.2)\n",
            "Requirement already satisfied: python-xlib>=0.17 in /usr/local/lib/python3.11/site-packages (from pynput>=1.7.7->lerobot==0.1.0) (0.33)\n",
            "Requirement already satisfied: sympy>=1.13.3 in /usr/local/lib/python3.11/site-packages (from torch>=2.2.1->lerobot==0.1.0) (1.14.0)\n",
            "Requirement already satisfied: networkx in /usr/local/lib/python3.11/site-packages (from torch>=2.2.1->lerobot==0.1.0) (3.5)\n",
            "Requirement already satisfied: nvidia-cuda-nvrtc-cu12==12.6.77 in /usr/local/lib/python3.11/site-packages (from torch>=2.2.1->lerobot==0.1.0) (12.6.77)\n",
            "Requirement already satisfied: nvidia-cuda-runtime-cu12==12.6.77 in /usr/local/lib/python3.11/site-packages (from torch>=2.2.1->lerobot==0.1.0) (12.6.77)\n",
            "Requirement already satisfied: nvidia-cuda-cupti-cu12==12.6.80 in /usr/local/lib/python3.11/site-packages (from torch>=2.2.1->lerobot==0.1.0) (12.6.80)\n",
            "Requirement already satisfied: nvidia-cudnn-cu12==9.5.1.17 in /usr/local/lib/python3.11/site-packages (from torch>=2.2.1->lerobot==0.1.0) (9.5.1.17)\n",
            "Requirement already satisfied: nvidia-cublas-cu12==12.6.4.1 in /usr/local/lib/python3.11/site-packages (from torch>=2.2.1->lerobot==0.1.0) (12.6.4.1)\n",
            "Requirement already satisfied: nvidia-cufft-cu12==11.3.0.4 in /usr/local/lib/python3.11/site-packages (from torch>=2.2.1->lerobot==0.1.0) (11.3.0.4)\n",
            "Requirement already satisfied: nvidia-curand-cu12==10.3.7.77 in /usr/local/lib/python3.11/site-packages (from torch>=2.2.1->lerobot==0.1.0) (10.3.7.77)\n",
            "Requirement already satisfied: nvidia-cusolver-cu12==11.7.1.2 in /usr/local/lib/python3.11/site-packages (from torch>=2.2.1->lerobot==0.1.0) (11.7.1.2)\n",
            "Requirement already satisfied: nvidia-cusparse-cu12==12.5.4.2 in /usr/local/lib/python3.11/site-packages (from torch>=2.2.1->lerobot==0.1.0) (12.5.4.2)\n",
            "Requirement already satisfied: nvidia-cusparselt-cu12==0.6.3 in /usr/local/lib/python3.11/site-packages (from torch>=2.2.1->lerobot==0.1.0) (0.6.3)\n",
            "Requirement already satisfied: nvidia-nccl-cu12==2.26.2 in /usr/local/lib/python3.11/site-packages (from torch>=2.2.1->lerobot==0.1.0) (2.26.2)\n",
            "Requirement already satisfied: nvidia-nvtx-cu12==12.6.77 in /usr/local/lib/python3.11/site-packages (from torch>=2.2.1->lerobot==0.1.0) (12.6.77)\n",
            "Requirement already satisfied: nvidia-nvjitlink-cu12==12.6.85 in /usr/local/lib/python3.11/site-packages (from torch>=2.2.1->lerobot==0.1.0) (12.6.85)\n",
            "Requirement already satisfied: nvidia-cufile-cu12==1.11.1.6 in /usr/local/lib/python3.11/site-packages (from torch>=2.2.1->lerobot==0.1.0) (1.11.1.6)\n",
            "Requirement already satisfied: triton==3.3.1 in /usr/local/lib/python3.11/site-packages (from torch>=2.2.1->lerobot==0.1.0) (3.3.1)\n",
            "Requirement already satisfied: setuptools>=40.8.0 in /usr/local/lib/python3.11/site-packages (from triton==3.3.1->torch>=2.2.1->lerobot==0.1.0) (65.6.3)\n",
            "Requirement already satisfied: gitpython!=3.1.29,>=1.0.0 in /usr/local/lib/python3.11/site-packages (from wandb>=0.16.3->lerobot==0.1.0) (3.1.44)\n",
            "Requirement already satisfied: platformdirs in /usr/local/lib/python3.11/site-packages (from wandb>=0.16.3->lerobot==0.1.0) (4.3.6)\n",
            "Requirement already satisfied: protobuf!=4.21.0,!=5.28.0,<7,>=3.19.0 in /usr/local/lib/python3.11/site-packages (from wandb>=0.16.3->lerobot==0.1.0) (6.31.1)\n",
            "Requirement already satisfied: pydantic<3 in /usr/local/lib/python3.11/site-packages (from wandb>=0.16.3->lerobot==0.1.0) (2.11.7)\n",
            "Requirement already satisfied: sentry-sdk>=2.0.0 in /usr/local/lib/python3.11/site-packages (from wandb>=0.16.3->lerobot==0.1.0) (2.32.0)\n",
            "Requirement already satisfied: setproctitle in /usr/local/lib/python3.11/site-packages (from wandb>=0.16.3->lerobot==0.1.0) (1.3.6)\n",
            "Requirement already satisfied: donfig>=0.8 in /usr/local/lib/python3.11/site-packages (from zarr>=2.17.0->lerobot==0.1.0) (0.8.1.post1)\n",
            "Requirement already satisfied: numcodecs>=0.14 in /usr/local/lib/python3.11/site-packages (from numcodecs[crc32c]>=0.14->zarr>=2.17.0->lerobot==0.1.0) (0.16.1)\n",
            "Requirement already satisfied: pycparser in /usr/local/lib/python3.11/site-packages (from cffi>=1.17.1->pymunk<7.0.0,>=6.6.0->lerobot==0.1.0) (2.22)\n",
            "Requirement already satisfied: aiohttp!=4.0.0a0,!=4.0.0a1 in /usr/local/lib/python3.11/site-packages (from fsspec[http]<=2025.3.0,>=2023.1.0->datasets>=2.19.0->lerobot==0.1.0) (3.12.13)\n",
            "Requirement already satisfied: gitdb<5,>=4.0.1 in /usr/local/lib/python3.11/site-packages (from gitpython!=3.1.29,>=1.0.0->wandb>=0.16.3->lerobot==0.1.0) (4.0.12)\n",
            "Requirement already satisfied: crc32c>=2.7 in /usr/local/lib/python3.11/site-packages (from numcodecs[crc32c]>=0.14->zarr>=2.17.0->lerobot==0.1.0) (2.7.1)\n",
            "Requirement already satisfied: annotated-types>=0.6.0 in /usr/local/lib/python3.11/site-packages (from pydantic<3->wandb>=0.16.3->lerobot==0.1.0) (0.7.0)\n",
            "Requirement already satisfied: pydantic-core==2.33.2 in /usr/local/lib/python3.11/site-packages (from pydantic<3->wandb>=0.16.3->lerobot==0.1.0) (2.33.2)\n",
            "Requirement already satisfied: typing-inspection>=0.4.0 in /usr/local/lib/python3.11/site-packages (from pydantic<3->wandb>=0.16.3->lerobot==0.1.0) (0.4.1)\n",
            "Requirement already satisfied: charset_normalizer<4,>=2 in /usr/local/lib/python3.11/site-packages (from requests>=2.32.2->datasets>=2.19.0->lerobot==0.1.0) (3.4.1)\n",
            "Requirement already satisfied: idna<4,>=2.5 in /usr/local/lib/python3.11/site-packages (from requests>=2.32.2->datasets>=2.19.0->lerobot==0.1.0) (3.10)\n",
            "Requirement already satisfied: urllib3<3,>=1.21.1 in /usr/local/lib/python3.11/site-packages (from requests>=2.32.2->datasets>=2.19.0->lerobot==0.1.0) (2.3.0)\n",
            "Requirement already satisfied: certifi>=2017.4.17 in /usr/local/lib/python3.11/site-packages (from requests>=2.32.2->datasets>=2.19.0->lerobot==0.1.0) (2025.6.15)\n",
            "Requirement already satisfied: mpmath<1.4,>=1.1.0 in /usr/local/lib/python3.11/site-packages (from sympy>=1.13.3->torch>=2.2.1->lerobot==0.1.0) (1.3.0)\n",
            "Requirement already satisfied: mypy-extensions>=0.3.0 in /usr/local/lib/python3.11/site-packages (from typing-inspect~=0.9.0->draccus==0.10.0->lerobot==0.1.0) (1.1.0)\n",
            "Requirement already satisfied: soupsieve>1.2 in /usr/local/lib/python3.11/site-packages (from beautifulsoup4->gdown>=5.1.0->lerobot==0.1.0) (2.7)\n",
            "Requirement already satisfied: zipp>=3.20 in /usr/local/lib/python3.11/site-packages (from importlib_metadata->diffusers>=0.27.2->lerobot==0.1.0) (3.23.0)\n",
            "Requirement already satisfied: python-dateutil>=2.8.2 in /usr/local/lib/python3.11/site-packages (from pandas->datasets>=2.19.0->lerobot==0.1.0) (2.9.0.post0)\n",
            "Requirement already satisfied: pytz>=2020.1 in /usr/local/lib/python3.11/site-packages (from pandas->datasets>=2.19.0->lerobot==0.1.0) (2025.2)\n",
            "Requirement already satisfied: tzdata>=2022.7 in /usr/local/lib/python3.11/site-packages (from pandas->datasets>=2.19.0->lerobot==0.1.0) (2025.2)\n",
            "Requirement already satisfied: PySocks!=1.5.7,>=1.5.6 in /usr/local/lib/python3.11/site-packages (from requests[socks]->gdown>=5.1.0->lerobot==0.1.0) (1.7.1)\n",
            "Requirement already satisfied: aiohappyeyeballs>=2.5.0 in /usr/local/lib/python3.11/site-packages (from aiohttp!=4.0.0a0,!=4.0.0a1->fsspec[http]<=2025.3.0,>=2023.1.0->datasets>=2.19.0->lerobot==0.1.0) (2.6.1)\n",
            "Requirement already satisfied: aiosignal>=1.1.2 in /usr/local/lib/python3.11/site-packages (from aiohttp!=4.0.0a0,!=4.0.0a1->fsspec[http]<=2025.3.0,>=2023.1.0->datasets>=2.19.0->lerobot==0.1.0) (1.3.2)\n",
            "Requirement already satisfied: frozenlist>=1.1.1 in /usr/local/lib/python3.11/site-packages (from aiohttp!=4.0.0a0,!=4.0.0a1->fsspec[http]<=2025.3.0,>=2023.1.0->datasets>=2.19.0->lerobot==0.1.0) (1.7.0)\n",
            "Requirement already satisfied: multidict<7.0,>=4.5 in /usr/local/lib/python3.11/site-packages (from aiohttp!=4.0.0a0,!=4.0.0a1->fsspec[http]<=2025.3.0,>=2023.1.0->datasets>=2.19.0->lerobot==0.1.0) (6.6.2)\n",
            "Requirement already satisfied: propcache>=0.2.0 in /usr/local/lib/python3.11/site-packages (from aiohttp!=4.0.0a0,!=4.0.0a1->fsspec[http]<=2025.3.0,>=2023.1.0->datasets>=2.19.0->lerobot==0.1.0) (0.3.2)\n",
            "Requirement already satisfied: yarl<2.0,>=1.17.0 in /usr/local/lib/python3.11/site-packages (from aiohttp!=4.0.0a0,!=4.0.0a1->fsspec[http]<=2025.3.0,>=2023.1.0->datasets>=2.19.0->lerobot==0.1.0) (1.20.1)\n",
            "Requirement already satisfied: smmap<6,>=3.0.1 in /usr/local/lib/python3.11/site-packages (from gitdb<5,>=4.0.1->gitpython!=3.1.29,>=1.0.0->wandb>=0.16.3->lerobot==0.1.0) (5.0.2)\n",
            "Requirement already satisfied: wcwidth in /usr/local/lib/python3.11/site-packages (from prompt-toolkit<4.0.0,>=3.0.1->InquirerPy==0.3.4->huggingface-hub[cli,hf-transfer]>=0.27.1; python_version < \"4.0\"->lerobot==0.1.0) (0.2.13)\n",
            "Building wheels for collected packages: lerobot\n",
            "  Building editable for lerobot (pyproject.toml) ... \u001b[?25l\u001b[?25hdone\n",
            "  Created wheel for lerobot: filename=lerobot-0.1.0-py3-none-any.whl size=16366 sha256=15dcbc92fc8fe9542afd3f36129de5af8ab5b343281d499ad864d1e0e716556f\n",
            "  Stored in directory: /tmp/pip-ephem-wheel-cache-hdu6tom6/wheels/15/0d/02/b9c6ff1c78574dee99101ad231194b3425eb4cd784ce8c8338\n",
            "Successfully built lerobot\n",
            "Installing collected packages: lerobot\n",
            "  Attempting uninstall: lerobot\n",
            "    Found existing installation: lerobot 0.1.0\n",
            "    Uninstalling lerobot-0.1.0:\n",
            "      Successfully uninstalled lerobot-0.1.0\n",
            "Successfully installed lerobot-0.1.0\n"
          ]
        }
      ],
      "source": [
        "!git clone https://github.com/huggingface/lerobot.git\n",
        "!conda install ffmpeg=7.1.1 -c conda-forge\n",
        "!cd lerobot && pip install -e ."
      ]
    },
    {
      "cell_type": "markdown",
      "metadata": {
        "id": "Q8Sn2wG4wldo"
      },
      "source": [
        "## Weights & Biases login\n",
        "This cell logs you into Weights & Biases (wandb) to enable experiment tracking and logging."
      ]
    },
    {
      "cell_type": "code",
      "execution_count": null,
      "metadata": {
        "colab": {
          "base_uri": "https://localhost:8080/"
        },
        "id": "PolVM_movEvp",
        "outputId": "800bbe3c-95e8-4690-aa5f-06cc33b76c3f",
        "collapsed": true
      },
      "outputs": [
        {
          "output_type": "stream",
          "name": "stdout",
          "text": [
            "\u001b[34m\u001b[1mwandb\u001b[0m: Logging into wandb.ai. (Learn how to deploy a W&B server locally: https://wandb.me/wandb-server)\n",
            "\u001b[34m\u001b[1mwandb\u001b[0m: You can find your API key in your browser here: https://wandb.ai/authorize?ref=models\n",
            "\u001b[34m\u001b[1mwandb\u001b[0m: Paste an API key from your profile and hit enter, or press ctrl+c to quit: \n",
            "\u001b[34m\u001b[1mwandb\u001b[0m: No netrc file found, creating one.\n",
            "\u001b[34m\u001b[1mwandb\u001b[0m: Appending key for api.wandb.ai to your netrc file: /root/.netrc\n",
            "\u001b[34m\u001b[1mwandb\u001b[0m: Currently logged in as: \u001b[33mchakravardhan999\u001b[0m (\u001b[33mchakravardhan999-sheffield-hallam-university\u001b[0m) to \u001b[32mhttps://api.wandb.ai\u001b[0m. Use \u001b[1m`wandb login --relogin`\u001b[0m to force relogin\n"
          ]
        }
      ],
      "source": [
        "!wandb login"
      ]
    },
    {
      "cell_type": "markdown",
      "metadata": {
        "id": "PnlX9Sdp_wbt"
      },
      "source": [
        "## Install pusht dependencies"
      ]
    },
    {
      "cell_type": "code",
      "execution_count": null,
      "metadata": {
        "collapsed": true,
        "id": "LK5201wr_wbt",
        "outputId": "75887e72-e9df-409d-a788-2c6e1f66d426",
        "colab": {
          "base_uri": "https://localhost:8080/"
        }
      },
      "outputs": [
        {
          "output_type": "stream",
          "name": "stdout",
          "text": [
            "Obtaining file:///content/lerobot\n",
            "  Installing build dependencies ... \u001b[?25l\u001b[?25hdone\n",
            "  Checking if build backend supports build_editable ... \u001b[?25l\u001b[?25hdone\n",
            "  Getting requirements to build editable ... \u001b[?25l\u001b[?25hdone\n",
            "  Preparing editable metadata (pyproject.toml) ... \u001b[?25l\u001b[?25hdone\n",
            "Requirement already satisfied: av>=14.2.0 in /usr/local/lib/python3.11/site-packages (from lerobot==0.1.0) (14.4.0)\n",
            "Requirement already satisfied: cmake>=3.29.0.1 in /usr/local/lib/python3.11/site-packages (from lerobot==0.1.0) (4.0.3)\n",
            "Requirement already satisfied: datasets>=2.19.0 in /usr/local/lib/python3.11/site-packages (from lerobot==0.1.0) (3.6.0)\n",
            "Requirement already satisfied: deepdiff>=7.0.1 in /usr/local/lib/python3.11/site-packages (from lerobot==0.1.0) (8.5.0)\n",
            "Requirement already satisfied: diffusers>=0.27.2 in /usr/local/lib/python3.11/site-packages (from lerobot==0.1.0) (0.34.0)\n",
            "Requirement already satisfied: draccus==0.10.0 in /usr/local/lib/python3.11/site-packages (from lerobot==0.1.0) (0.10.0)\n",
            "Requirement already satisfied: einops>=0.8.0 in /usr/local/lib/python3.11/site-packages (from lerobot==0.1.0) (0.8.1)\n",
            "Requirement already satisfied: flask>=3.0.3 in /usr/local/lib/python3.11/site-packages (from lerobot==0.1.0) (3.1.1)\n",
            "Requirement already satisfied: gdown>=5.1.0 in /usr/local/lib/python3.11/site-packages (from lerobot==0.1.0) (5.2.0)\n",
            "Requirement already satisfied: gymnasium==0.29.1 in /usr/local/lib/python3.11/site-packages (from lerobot==0.1.0) (0.29.1)\n",
            "Requirement already satisfied: h5py>=3.10.0 in /usr/local/lib/python3.11/site-packages (from lerobot==0.1.0) (3.14.0)\n",
            "Requirement already satisfied: huggingface-hub>=0.27.1 in /usr/local/lib/python3.11/site-packages (from huggingface-hub[cli,hf-transfer]>=0.27.1; python_version < \"4.0\"->lerobot==0.1.0) (0.33.1)\n",
            "Requirement already satisfied: imageio>=2.34.0 in /usr/local/lib/python3.11/site-packages (from imageio[ffmpeg]>=2.34.0->lerobot==0.1.0) (2.37.0)\n",
            "Requirement already satisfied: jsonlines>=4.0.0 in /usr/local/lib/python3.11/site-packages (from lerobot==0.1.0) (4.0.0)\n",
            "Requirement already satisfied: numba>=0.59.0 in /usr/local/lib/python3.11/site-packages (from lerobot==0.1.0) (0.61.2)\n",
            "Requirement already satisfied: omegaconf>=2.3.0 in /usr/local/lib/python3.11/site-packages (from lerobot==0.1.0) (2.3.0)\n",
            "Requirement already satisfied: opencv-python-headless>=4.9.0 in /usr/local/lib/python3.11/site-packages (from lerobot==0.1.0) (4.11.0.86)\n",
            "Requirement already satisfied: packaging>=24.2 in /usr/local/lib/python3.11/site-packages (from lerobot==0.1.0) (24.2)\n",
            "Requirement already satisfied: pymunk<7.0.0,>=6.6.0 in /usr/local/lib/python3.11/site-packages (from lerobot==0.1.0) (6.11.1)\n",
            "Requirement already satisfied: pynput>=1.7.7 in /usr/local/lib/python3.11/site-packages (from lerobot==0.1.0) (1.8.1)\n",
            "Requirement already satisfied: pyserial>=3.5 in /usr/local/lib/python3.11/site-packages (from lerobot==0.1.0) (3.5)\n",
            "Requirement already satisfied: pyzmq>=26.2.1 in /usr/local/lib/python3.11/site-packages (from lerobot==0.1.0) (27.0.0)\n",
            "Requirement already satisfied: rerun-sdk>=0.21.0 in /usr/local/lib/python3.11/site-packages (from lerobot==0.1.0) (0.23.4)\n",
            "Requirement already satisfied: scipy>=1.14.0 in /usr/local/lib/python3.11/site-packages (from lerobot==0.1.0) (1.16.0)\n",
            "Requirement already satisfied: termcolor>=2.4.0 in /usr/local/lib/python3.11/site-packages (from lerobot==0.1.0) (3.1.0)\n",
            "Requirement already satisfied: torch>=2.2.1 in /usr/local/lib/python3.11/site-packages (from lerobot==0.1.0) (2.7.1)\n",
            "Requirement already satisfied: torchcodec>=0.2.1 in /usr/local/lib/python3.11/site-packages (from lerobot==0.1.0) (0.4.0)\n",
            "Requirement already satisfied: torchvision>=0.21.0 in /usr/local/lib/python3.11/site-packages (from lerobot==0.1.0) (0.22.1)\n",
            "Requirement already satisfied: wandb>=0.16.3 in /usr/local/lib/python3.11/site-packages (from lerobot==0.1.0) (0.20.1)\n",
            "Requirement already satisfied: zarr>=2.17.0 in /usr/local/lib/python3.11/site-packages (from lerobot==0.1.0) (3.0.8)\n",
            "Requirement already satisfied: mergedeep~=1.3 in /usr/local/lib/python3.11/site-packages (from draccus==0.10.0->lerobot==0.1.0) (1.3.4)\n",
            "Requirement already satisfied: pyyaml~=6.0 in /usr/local/lib/python3.11/site-packages (from draccus==0.10.0->lerobot==0.1.0) (6.0.2)\n",
            "Requirement already satisfied: pyyaml-include~=1.4 in /usr/local/lib/python3.11/site-packages (from draccus==0.10.0->lerobot==0.1.0) (1.4.1)\n",
            "Requirement already satisfied: toml~=0.10 in /usr/local/lib/python3.11/site-packages (from draccus==0.10.0->lerobot==0.1.0) (0.10.2)\n",
            "Requirement already satisfied: typing-inspect~=0.9.0 in /usr/local/lib/python3.11/site-packages (from draccus==0.10.0->lerobot==0.1.0) (0.9.0)\n",
            "Requirement already satisfied: numpy>=1.21.0 in /usr/local/lib/python3.11/site-packages (from gymnasium==0.29.1->lerobot==0.1.0) (2.2.6)\n",
            "Requirement already satisfied: cloudpickle>=1.2.0 in /usr/local/lib/python3.11/site-packages (from gymnasium==0.29.1->lerobot==0.1.0) (3.1.1)\n",
            "Requirement already satisfied: typing-extensions>=4.3.0 in /usr/local/lib/python3.11/site-packages (from gymnasium==0.29.1->lerobot==0.1.0) (4.14.0)\n",
            "Requirement already satisfied: farama-notifications>=0.0.1 in /usr/local/lib/python3.11/site-packages (from gymnasium==0.29.1->lerobot==0.1.0) (0.0.4)\n",
            "Collecting accelerate>=1.7.0 (from lerobot==0.1.0)\n",
            "  Downloading accelerate-1.8.1-py3-none-any.whl.metadata (19 kB)\n",
            "Collecting num2words>=0.5.14 (from lerobot==0.1.0)\n",
            "  Downloading num2words-0.5.14-py3-none-any.whl.metadata (13 kB)\n",
            "Requirement already satisfied: safetensors>=0.4.3 in /usr/local/lib/python3.11/site-packages (from lerobot==0.1.0) (0.5.3)\n",
            "Collecting transformers>=4.50.3 (from lerobot==0.1.0)\n",
            "  Downloading transformers-4.53.0-py3-none-any.whl.metadata (39 kB)\n",
            "Requirement already satisfied: psutil in /usr/local/lib/python3.11/site-packages (from accelerate>=1.7.0->lerobot==0.1.0) (7.0.0)\n",
            "Requirement already satisfied: filelock in /usr/local/lib/python3.11/site-packages (from datasets>=2.19.0->lerobot==0.1.0) (3.18.0)\n",
            "Requirement already satisfied: pyarrow>=15.0.0 in /usr/local/lib/python3.11/site-packages (from datasets>=2.19.0->lerobot==0.1.0) (20.0.0)\n",
            "Requirement already satisfied: dill<0.3.9,>=0.3.0 in /usr/local/lib/python3.11/site-packages (from datasets>=2.19.0->lerobot==0.1.0) (0.3.8)\n",
            "Requirement already satisfied: pandas in /usr/local/lib/python3.11/site-packages (from datasets>=2.19.0->lerobot==0.1.0) (2.3.0)\n",
            "Requirement already satisfied: requests>=2.32.2 in /usr/local/lib/python3.11/site-packages (from datasets>=2.19.0->lerobot==0.1.0) (2.32.3)\n",
            "Requirement already satisfied: tqdm>=4.66.3 in /usr/local/lib/python3.11/site-packages (from datasets>=2.19.0->lerobot==0.1.0) (4.67.1)\n",
            "Requirement already satisfied: xxhash in /usr/local/lib/python3.11/site-packages (from datasets>=2.19.0->lerobot==0.1.0) (3.5.0)\n",
            "Requirement already satisfied: multiprocess<0.70.17 in /usr/local/lib/python3.11/site-packages (from datasets>=2.19.0->lerobot==0.1.0) (0.70.16)\n",
            "Requirement already satisfied: fsspec<=2025.3.0,>=2023.1.0 in /usr/local/lib/python3.11/site-packages (from fsspec[http]<=2025.3.0,>=2023.1.0->datasets>=2.19.0->lerobot==0.1.0) (2025.3.0)\n",
            "Requirement already satisfied: orderly-set<6,>=5.4.1 in /usr/local/lib/python3.11/site-packages (from deepdiff>=7.0.1->lerobot==0.1.0) (5.4.1)\n",
            "Requirement already satisfied: importlib_metadata in /usr/local/lib/python3.11/site-packages (from diffusers>=0.27.2->lerobot==0.1.0) (8.7.0)\n",
            "Requirement already satisfied: regex!=2019.12.17 in /usr/local/lib/python3.11/site-packages (from diffusers>=0.27.2->lerobot==0.1.0) (2024.11.6)\n",
            "Requirement already satisfied: Pillow in /usr/local/lib/python3.11/site-packages (from diffusers>=0.27.2->lerobot==0.1.0) (11.2.1)\n",
            "Requirement already satisfied: blinker>=1.9.0 in /usr/local/lib/python3.11/site-packages (from flask>=3.0.3->lerobot==0.1.0) (1.9.0)\n",
            "Requirement already satisfied: click>=8.1.3 in /usr/local/lib/python3.11/site-packages (from flask>=3.0.3->lerobot==0.1.0) (8.2.1)\n",
            "Requirement already satisfied: itsdangerous>=2.2.0 in /usr/local/lib/python3.11/site-packages (from flask>=3.0.3->lerobot==0.1.0) (2.2.0)\n",
            "Requirement already satisfied: jinja2>=3.1.2 in /usr/local/lib/python3.11/site-packages (from flask>=3.0.3->lerobot==0.1.0) (3.1.6)\n",
            "Requirement already satisfied: markupsafe>=2.1.1 in /usr/local/lib/python3.11/site-packages (from flask>=3.0.3->lerobot==0.1.0) (3.0.2)\n",
            "Requirement already satisfied: werkzeug>=3.1.0 in /usr/local/lib/python3.11/site-packages (from flask>=3.0.3->lerobot==0.1.0) (3.1.3)\n",
            "Requirement already satisfied: beautifulsoup4 in /usr/local/lib/python3.11/site-packages (from gdown>=5.1.0->lerobot==0.1.0) (4.13.4)\n",
            "Requirement already satisfied: hf-xet<2.0.0,>=1.1.2 in /usr/local/lib/python3.11/site-packages (from huggingface-hub>=0.27.1->huggingface-hub[cli,hf-transfer]>=0.27.1; python_version < \"4.0\"->lerobot==0.1.0) (1.1.5)\n",
            "Requirement already satisfied: InquirerPy==0.3.4 in /usr/local/lib/python3.11/site-packages (from huggingface-hub[cli,hf-transfer]>=0.27.1; python_version < \"4.0\"->lerobot==0.1.0) (0.3.4)\n",
            "Requirement already satisfied: hf-transfer>=0.1.4 in /usr/local/lib/python3.11/site-packages (from huggingface-hub[cli,hf-transfer]>=0.27.1; python_version < \"4.0\"->lerobot==0.1.0) (0.1.9)\n",
            "Requirement already satisfied: pfzy<0.4.0,>=0.3.1 in /usr/local/lib/python3.11/site-packages (from InquirerPy==0.3.4->huggingface-hub[cli,hf-transfer]>=0.27.1; python_version < \"4.0\"->lerobot==0.1.0) (0.3.4)\n",
            "Requirement already satisfied: prompt-toolkit<4.0.0,>=3.0.1 in /usr/local/lib/python3.11/site-packages (from InquirerPy==0.3.4->huggingface-hub[cli,hf-transfer]>=0.27.1; python_version < \"4.0\"->lerobot==0.1.0) (3.0.51)\n",
            "Requirement already satisfied: imageio-ffmpeg in /usr/local/lib/python3.11/site-packages (from imageio[ffmpeg]>=2.34.0->lerobot==0.1.0) (0.6.0)\n",
            "Requirement already satisfied: attrs>=19.2.0 in /usr/local/lib/python3.11/site-packages (from jsonlines>=4.0.0->lerobot==0.1.0) (25.3.0)\n",
            "Collecting docopt>=0.6.2 (from num2words>=0.5.14->lerobot==0.1.0)\n",
            "  Downloading docopt-0.6.2.tar.gz (25 kB)\n",
            "  Preparing metadata (setup.py) ... \u001b[?25l\u001b[?25hdone\n",
            "Requirement already satisfied: llvmlite<0.45,>=0.44.0dev0 in /usr/local/lib/python3.11/site-packages (from numba>=0.59.0->lerobot==0.1.0) (0.44.0)\n",
            "Requirement already satisfied: antlr4-python3-runtime==4.9.* in /usr/local/lib/python3.11/site-packages (from omegaconf>=2.3.0->lerobot==0.1.0) (4.9.3)\n",
            "Requirement already satisfied: cffi>=1.17.1 in /usr/local/lib/python3.11/site-packages (from pymunk<7.0.0,>=6.6.0->lerobot==0.1.0) (1.17.1)\n",
            "Requirement already satisfied: six in /usr/local/lib/python3.11/site-packages (from pynput>=1.7.7->lerobot==0.1.0) (1.17.0)\n",
            "Requirement already satisfied: evdev>=1.3 in /usr/local/lib/python3.11/site-packages (from pynput>=1.7.7->lerobot==0.1.0) (1.9.2)\n",
            "Requirement already satisfied: python-xlib>=0.17 in /usr/local/lib/python3.11/site-packages (from pynput>=1.7.7->lerobot==0.1.0) (0.33)\n",
            "Requirement already satisfied: sympy>=1.13.3 in /usr/local/lib/python3.11/site-packages (from torch>=2.2.1->lerobot==0.1.0) (1.14.0)\n",
            "Requirement already satisfied: networkx in /usr/local/lib/python3.11/site-packages (from torch>=2.2.1->lerobot==0.1.0) (3.5)\n",
            "Requirement already satisfied: nvidia-cuda-nvrtc-cu12==12.6.77 in /usr/local/lib/python3.11/site-packages (from torch>=2.2.1->lerobot==0.1.0) (12.6.77)\n",
            "Requirement already satisfied: nvidia-cuda-runtime-cu12==12.6.77 in /usr/local/lib/python3.11/site-packages (from torch>=2.2.1->lerobot==0.1.0) (12.6.77)\n",
            "Requirement already satisfied: nvidia-cuda-cupti-cu12==12.6.80 in /usr/local/lib/python3.11/site-packages (from torch>=2.2.1->lerobot==0.1.0) (12.6.80)\n",
            "Requirement already satisfied: nvidia-cudnn-cu12==9.5.1.17 in /usr/local/lib/python3.11/site-packages (from torch>=2.2.1->lerobot==0.1.0) (9.5.1.17)\n",
            "Requirement already satisfied: nvidia-cublas-cu12==12.6.4.1 in /usr/local/lib/python3.11/site-packages (from torch>=2.2.1->lerobot==0.1.0) (12.6.4.1)\n",
            "Requirement already satisfied: nvidia-cufft-cu12==11.3.0.4 in /usr/local/lib/python3.11/site-packages (from torch>=2.2.1->lerobot==0.1.0) (11.3.0.4)\n",
            "Requirement already satisfied: nvidia-curand-cu12==10.3.7.77 in /usr/local/lib/python3.11/site-packages (from torch>=2.2.1->lerobot==0.1.0) (10.3.7.77)\n",
            "Requirement already satisfied: nvidia-cusolver-cu12==11.7.1.2 in /usr/local/lib/python3.11/site-packages (from torch>=2.2.1->lerobot==0.1.0) (11.7.1.2)\n",
            "Requirement already satisfied: nvidia-cusparse-cu12==12.5.4.2 in /usr/local/lib/python3.11/site-packages (from torch>=2.2.1->lerobot==0.1.0) (12.5.4.2)\n",
            "Requirement already satisfied: nvidia-cusparselt-cu12==0.6.3 in /usr/local/lib/python3.11/site-packages (from torch>=2.2.1->lerobot==0.1.0) (0.6.3)\n",
            "Requirement already satisfied: nvidia-nccl-cu12==2.26.2 in /usr/local/lib/python3.11/site-packages (from torch>=2.2.1->lerobot==0.1.0) (2.26.2)\n",
            "Requirement already satisfied: nvidia-nvtx-cu12==12.6.77 in /usr/local/lib/python3.11/site-packages (from torch>=2.2.1->lerobot==0.1.0) (12.6.77)\n",
            "Requirement already satisfied: nvidia-nvjitlink-cu12==12.6.85 in /usr/local/lib/python3.11/site-packages (from torch>=2.2.1->lerobot==0.1.0) (12.6.85)\n",
            "Requirement already satisfied: nvidia-cufile-cu12==1.11.1.6 in /usr/local/lib/python3.11/site-packages (from torch>=2.2.1->lerobot==0.1.0) (1.11.1.6)\n",
            "Requirement already satisfied: triton==3.3.1 in /usr/local/lib/python3.11/site-packages (from torch>=2.2.1->lerobot==0.1.0) (3.3.1)\n",
            "Requirement already satisfied: setuptools>=40.8.0 in /usr/local/lib/python3.11/site-packages (from triton==3.3.1->torch>=2.2.1->lerobot==0.1.0) (65.6.3)\n",
            "Collecting tokenizers<0.22,>=0.21 (from transformers>=4.50.3->lerobot==0.1.0)\n",
            "  Downloading tokenizers-0.21.2-cp39-abi3-manylinux_2_17_x86_64.manylinux2014_x86_64.whl.metadata (6.8 kB)\n",
            "Requirement already satisfied: gitpython!=3.1.29,>=1.0.0 in /usr/local/lib/python3.11/site-packages (from wandb>=0.16.3->lerobot==0.1.0) (3.1.44)\n",
            "Requirement already satisfied: platformdirs in /usr/local/lib/python3.11/site-packages (from wandb>=0.16.3->lerobot==0.1.0) (4.3.6)\n",
            "Requirement already satisfied: protobuf!=4.21.0,!=5.28.0,<7,>=3.19.0 in /usr/local/lib/python3.11/site-packages (from wandb>=0.16.3->lerobot==0.1.0) (6.31.1)\n",
            "Requirement already satisfied: pydantic<3 in /usr/local/lib/python3.11/site-packages (from wandb>=0.16.3->lerobot==0.1.0) (2.11.7)\n",
            "Requirement already satisfied: sentry-sdk>=2.0.0 in /usr/local/lib/python3.11/site-packages (from wandb>=0.16.3->lerobot==0.1.0) (2.32.0)\n",
            "Requirement already satisfied: setproctitle in /usr/local/lib/python3.11/site-packages (from wandb>=0.16.3->lerobot==0.1.0) (1.3.6)\n",
            "Requirement already satisfied: donfig>=0.8 in /usr/local/lib/python3.11/site-packages (from zarr>=2.17.0->lerobot==0.1.0) (0.8.1.post1)\n",
            "Requirement already satisfied: numcodecs>=0.14 in /usr/local/lib/python3.11/site-packages (from numcodecs[crc32c]>=0.14->zarr>=2.17.0->lerobot==0.1.0) (0.16.1)\n",
            "Requirement already satisfied: pycparser in /usr/local/lib/python3.11/site-packages (from cffi>=1.17.1->pymunk<7.0.0,>=6.6.0->lerobot==0.1.0) (2.22)\n",
            "Requirement already satisfied: aiohttp!=4.0.0a0,!=4.0.0a1 in /usr/local/lib/python3.11/site-packages (from fsspec[http]<=2025.3.0,>=2023.1.0->datasets>=2.19.0->lerobot==0.1.0) (3.12.13)\n",
            "Requirement already satisfied: gitdb<5,>=4.0.1 in /usr/local/lib/python3.11/site-packages (from gitpython!=3.1.29,>=1.0.0->wandb>=0.16.3->lerobot==0.1.0) (4.0.12)\n",
            "Requirement already satisfied: crc32c>=2.7 in /usr/local/lib/python3.11/site-packages (from numcodecs[crc32c]>=0.14->zarr>=2.17.0->lerobot==0.1.0) (2.7.1)\n",
            "Requirement already satisfied: annotated-types>=0.6.0 in /usr/local/lib/python3.11/site-packages (from pydantic<3->wandb>=0.16.3->lerobot==0.1.0) (0.7.0)\n",
            "Requirement already satisfied: pydantic-core==2.33.2 in /usr/local/lib/python3.11/site-packages (from pydantic<3->wandb>=0.16.3->lerobot==0.1.0) (2.33.2)\n",
            "Requirement already satisfied: typing-inspection>=0.4.0 in /usr/local/lib/python3.11/site-packages (from pydantic<3->wandb>=0.16.3->lerobot==0.1.0) (0.4.1)\n",
            "Requirement already satisfied: charset_normalizer<4,>=2 in /usr/local/lib/python3.11/site-packages (from requests>=2.32.2->datasets>=2.19.0->lerobot==0.1.0) (3.4.1)\n",
            "Requirement already satisfied: idna<4,>=2.5 in /usr/local/lib/python3.11/site-packages (from requests>=2.32.2->datasets>=2.19.0->lerobot==0.1.0) (3.10)\n",
            "Requirement already satisfied: urllib3<3,>=1.21.1 in /usr/local/lib/python3.11/site-packages (from requests>=2.32.2->datasets>=2.19.0->lerobot==0.1.0) (2.3.0)\n",
            "Requirement already satisfied: certifi>=2017.4.17 in /usr/local/lib/python3.11/site-packages (from requests>=2.32.2->datasets>=2.19.0->lerobot==0.1.0) (2025.6.15)\n",
            "Requirement already satisfied: mpmath<1.4,>=1.1.0 in /usr/local/lib/python3.11/site-packages (from sympy>=1.13.3->torch>=2.2.1->lerobot==0.1.0) (1.3.0)\n",
            "Requirement already satisfied: mypy-extensions>=0.3.0 in /usr/local/lib/python3.11/site-packages (from typing-inspect~=0.9.0->draccus==0.10.0->lerobot==0.1.0) (1.1.0)\n",
            "Requirement already satisfied: soupsieve>1.2 in /usr/local/lib/python3.11/site-packages (from beautifulsoup4->gdown>=5.1.0->lerobot==0.1.0) (2.7)\n",
            "Requirement already satisfied: zipp>=3.20 in /usr/local/lib/python3.11/site-packages (from importlib_metadata->diffusers>=0.27.2->lerobot==0.1.0) (3.23.0)\n",
            "Requirement already satisfied: python-dateutil>=2.8.2 in /usr/local/lib/python3.11/site-packages (from pandas->datasets>=2.19.0->lerobot==0.1.0) (2.9.0.post0)\n",
            "Requirement already satisfied: pytz>=2020.1 in /usr/local/lib/python3.11/site-packages (from pandas->datasets>=2.19.0->lerobot==0.1.0) (2025.2)\n",
            "Requirement already satisfied: tzdata>=2022.7 in /usr/local/lib/python3.11/site-packages (from pandas->datasets>=2.19.0->lerobot==0.1.0) (2025.2)\n",
            "Requirement already satisfied: PySocks!=1.5.7,>=1.5.6 in /usr/local/lib/python3.11/site-packages (from requests[socks]->gdown>=5.1.0->lerobot==0.1.0) (1.7.1)\n",
            "Requirement already satisfied: aiohappyeyeballs>=2.5.0 in /usr/local/lib/python3.11/site-packages (from aiohttp!=4.0.0a0,!=4.0.0a1->fsspec[http]<=2025.3.0,>=2023.1.0->datasets>=2.19.0->lerobot==0.1.0) (2.6.1)\n",
            "Requirement already satisfied: aiosignal>=1.1.2 in /usr/local/lib/python3.11/site-packages (from aiohttp!=4.0.0a0,!=4.0.0a1->fsspec[http]<=2025.3.0,>=2023.1.0->datasets>=2.19.0->lerobot==0.1.0) (1.3.2)\n",
            "Requirement already satisfied: frozenlist>=1.1.1 in /usr/local/lib/python3.11/site-packages (from aiohttp!=4.0.0a0,!=4.0.0a1->fsspec[http]<=2025.3.0,>=2023.1.0->datasets>=2.19.0->lerobot==0.1.0) (1.7.0)\n",
            "Requirement already satisfied: multidict<7.0,>=4.5 in /usr/local/lib/python3.11/site-packages (from aiohttp!=4.0.0a0,!=4.0.0a1->fsspec[http]<=2025.3.0,>=2023.1.0->datasets>=2.19.0->lerobot==0.1.0) (6.6.2)\n",
            "Requirement already satisfied: propcache>=0.2.0 in /usr/local/lib/python3.11/site-packages (from aiohttp!=4.0.0a0,!=4.0.0a1->fsspec[http]<=2025.3.0,>=2023.1.0->datasets>=2.19.0->lerobot==0.1.0) (0.3.2)\n",
            "Requirement already satisfied: yarl<2.0,>=1.17.0 in /usr/local/lib/python3.11/site-packages (from aiohttp!=4.0.0a0,!=4.0.0a1->fsspec[http]<=2025.3.0,>=2023.1.0->datasets>=2.19.0->lerobot==0.1.0) (1.20.1)\n",
            "Requirement already satisfied: smmap<6,>=3.0.1 in /usr/local/lib/python3.11/site-packages (from gitdb<5,>=4.0.1->gitpython!=3.1.29,>=1.0.0->wandb>=0.16.3->lerobot==0.1.0) (5.0.2)\n",
            "Requirement already satisfied: wcwidth in /usr/local/lib/python3.11/site-packages (from prompt-toolkit<4.0.0,>=3.0.1->InquirerPy==0.3.4->huggingface-hub[cli,hf-transfer]>=0.27.1; python_version < \"4.0\"->lerobot==0.1.0) (0.2.13)\n",
            "Downloading accelerate-1.8.1-py3-none-any.whl (365 kB)\n",
            "Downloading num2words-0.5.14-py3-none-any.whl (163 kB)\n",
            "Downloading transformers-4.53.0-py3-none-any.whl (10.8 MB)\n",
            "\u001b[2K   \u001b[90m━━━━━━━━━━━━━━━━━━━━━━━━━━━━━━━━━━━━━━━━\u001b[0m \u001b[32m10.8/10.8 MB\u001b[0m \u001b[31m83.3 MB/s\u001b[0m eta \u001b[36m0:00:00\u001b[0m\n",
            "\u001b[?25hDownloading tokenizers-0.21.2-cp39-abi3-manylinux_2_17_x86_64.manylinux2014_x86_64.whl (3.1 MB)\n",
            "\u001b[2K   \u001b[90m━━━━━━━━━━━━━━━━━━━━━━━━━━━━━━━━━━━━━━━━\u001b[0m \u001b[32m3.1/3.1 MB\u001b[0m \u001b[31m61.1 MB/s\u001b[0m eta \u001b[36m0:00:00\u001b[0m\n",
            "\u001b[?25hBuilding wheels for collected packages: lerobot, docopt\n",
            "  Building editable for lerobot (pyproject.toml) ... \u001b[?25l\u001b[?25hdone\n",
            "  Created wheel for lerobot: filename=lerobot-0.1.0-py3-none-any.whl size=16366 sha256=15dcbc92fc8fe9542afd3f36129de5af8ab5b343281d499ad864d1e0e716556f\n",
            "  Stored in directory: /tmp/pip-ephem-wheel-cache-q95y5y96/wheels/15/0d/02/b9c6ff1c78574dee99101ad231194b3425eb4cd784ce8c8338\n",
            "  Building wheel for docopt (setup.py) ... \u001b[?25l\u001b[?25hdone\n",
            "  Created wheel for docopt: filename=docopt-0.6.2-py2.py3-none-any.whl size=13706 sha256=02a5f22ea5d14e2b44f4cd09111924037ac48a3f31ff6a54002ff8af8d57aef8\n",
            "  Stored in directory: /root/.cache/pip/wheels/1a/b0/8c/4b75c4116c31f83c8f9f047231251e13cc74481cca4a78a9ce\n",
            "Successfully built lerobot docopt\n",
            "Installing collected packages: docopt, num2words, tokenizers, transformers, accelerate, lerobot\n",
            "  Attempting uninstall: lerobot\n",
            "    Found existing installation: lerobot 0.1.0\n",
            "    Uninstalling lerobot-0.1.0:\n",
            "      Successfully uninstalled lerobot-0.1.0\n",
            "Successfully installed accelerate-1.8.1 docopt-0.6.2 lerobot-0.1.0 num2words-0.5.14 tokenizers-0.21.2 transformers-4.53.0\n"
          ]
        }
      ],
      "source": [
        "!cd lerobot && pip install -e"
      ]
    },
    {
      "cell_type": "code",
      "source": [
        "!ls /content/lerobot\n"
      ],
      "metadata": {
        "colab": {
          "base_uri": "https://localhost:8080/"
        },
        "id": "CCmhDBrbfpLO",
        "outputId": "8f7e4d09-2783-4064-99f2-70d8cd72f51d"
      },
      "execution_count": null,
      "outputs": [
        {
          "output_type": "stream",
          "name": "stdout",
          "text": [
            "benchmarks\t    docker    lerobot\tMANIFEST.in\tREADME.md\n",
            "CODE_OF_CONDUCT.md  docs      LICENSE\tmedia\t\ttests\n",
            "CONTRIBUTING.md     examples  Makefile\tpyproject.toml\n"
          ]
        }
      ]
    },
    {
      "cell_type": "code",
      "source": [
        "!ls /content/lerobot/examples\n"
      ],
      "metadata": {
        "colab": {
          "base_uri": "https://localhost:8080/"
        },
        "id": "7SLHRHTLf8my",
        "outputId": "bbc60643-bd89-4a5f-9ac6-5fccb7c18a89"
      },
      "execution_count": null,
      "outputs": [
        {
          "output_type": "stream",
          "name": "stdout",
          "text": [
            "1_load_lerobot_dataset.py\t 4_train_policy_with_script.md\tlekiwi\n",
            "2_evaluate_pretrained_policy.py  advanced\n",
            "3_train_policy.py\t\t backward_compatibility\n"
          ]
        }
      ]
    },
    {
      "cell_type": "code",
      "source": [
        "!find /content/lerobot -name train.py\n"
      ],
      "metadata": {
        "colab": {
          "base_uri": "https://localhost:8080/"
        },
        "id": "nZRrLfXXgJIW",
        "outputId": "62842264-0c38-4de9-bff5-6d6469bc8a4c"
      },
      "execution_count": null,
      "outputs": [
        {
          "output_type": "stream",
          "name": "stdout",
          "text": [
            "/content/lerobot/lerobot/configs/train.py\n",
            "/content/lerobot/lerobot/scripts/train.py\n"
          ]
        }
      ]
    },
    {
      "cell_type": "code",
      "source": [
        "python lerobot/lescripts/train.py \\\n",
        "    --output_dir=outputs/train/diffusion_pusht \\\n",
        "    --policy.type=diffusion \\\n",
        "    --dataset.repo_id=lerobot/pusht \\\n",
        "    --seed=100000 \\\n",
        "    --env.type=pusht \\\n",
        "    --batch_size=64 \\\n",
        "    --steps=200000 \\\n",
        "    --eval_freq=25000 \\\n",
        "    --save_freq=25000 \\\n",
        "    --wandb.enable=true\n"
      ],
      "metadata": {
        "id": "nXjjAo7G_nEI",
        "outputId": "78f3edf0-f645-4f0a-df50-d46934940f2f",
        "colab": {
          "base_uri": "https://localhost:8080/",
          "height": 108
        }
      },
      "execution_count": 1,
      "outputs": [
        {
          "output_type": "error",
          "ename": "SyntaxError",
          "evalue": "invalid syntax (ipython-input-1-889885133.py, line 1)",
          "traceback": [
            "\u001b[0;36m  File \u001b[0;32m\"/tmp/ipython-input-1-889885133.py\"\u001b[0;36m, line \u001b[0;32m1\u001b[0m\n\u001b[0;31m    python lerobot/lescripts/train.py \\\u001b[0m\n\u001b[0m           ^\u001b[0m\n\u001b[0;31mSyntaxError\u001b[0m\u001b[0;31m:\u001b[0m invalid syntax\n"
          ]
        }
      ]
    },
    {
      "cell_type": "code",
      "source": [
        "!pip install gym-pusht\n"
      ],
      "metadata": {
        "collapsed": true,
        "colab": {
          "base_uri": "https://localhost:8080/"
        },
        "id": "3UDmVUUOOnP7",
        "outputId": "69f8bdaa-d1ac-45a4-880b-56835391cb3b"
      },
      "execution_count": null,
      "outputs": [
        {
          "output_type": "stream",
          "name": "stdout",
          "text": [
            "Collecting gym-pusht\n",
            "  Downloading gym_pusht-0.1.5-py3-none-any.whl.metadata (5.8 kB)\n",
            "Requirement already satisfied: gymnasium>=0.29.1 in /usr/local/lib/python3.11/site-packages (from gym-pusht) (0.29.1)\n",
            "Collecting opencv-python>=4.9.0 (from gym-pusht)\n",
            "  Downloading opencv_python-4.11.0.86-cp37-abi3-manylinux_2_17_x86_64.manylinux2014_x86_64.whl.metadata (20 kB)\n",
            "Collecting pygame>=2.5.2 (from gym-pusht)\n",
            "  Downloading pygame-2.6.1-cp311-cp311-manylinux_2_17_x86_64.manylinux2014_x86_64.whl.metadata (12 kB)\n",
            "Requirement already satisfied: pymunk>=6.6.0 in /usr/local/lib/python3.11/site-packages (from gym-pusht) (6.11.1)\n",
            "Collecting scikit-image>=0.22.0 (from gym-pusht)\n",
            "  Downloading scikit_image-0.25.2-cp311-cp311-manylinux_2_17_x86_64.manylinux2014_x86_64.whl.metadata (14 kB)\n",
            "Collecting shapely>=2.0.3 (from gym-pusht)\n",
            "  Downloading shapely-2.1.1-cp311-cp311-manylinux_2_17_x86_64.manylinux2014_x86_64.whl.metadata (6.7 kB)\n",
            "Requirement already satisfied: numpy>=1.21.0 in /usr/local/lib/python3.11/site-packages (from gymnasium>=0.29.1->gym-pusht) (2.2.6)\n",
            "Requirement already satisfied: cloudpickle>=1.2.0 in /usr/local/lib/python3.11/site-packages (from gymnasium>=0.29.1->gym-pusht) (3.1.1)\n",
            "Requirement already satisfied: typing-extensions>=4.3.0 in /usr/local/lib/python3.11/site-packages (from gymnasium>=0.29.1->gym-pusht) (4.14.0)\n",
            "Requirement already satisfied: farama-notifications>=0.0.1 in /usr/local/lib/python3.11/site-packages (from gymnasium>=0.29.1->gym-pusht) (0.0.4)\n",
            "Requirement already satisfied: cffi>=1.17.1 in /usr/local/lib/python3.11/site-packages (from pymunk>=6.6.0->gym-pusht) (1.17.1)\n",
            "Requirement already satisfied: scipy>=1.11.4 in /usr/local/lib/python3.11/site-packages (from scikit-image>=0.22.0->gym-pusht) (1.16.0)\n",
            "Requirement already satisfied: networkx>=3.0 in /usr/local/lib/python3.11/site-packages (from scikit-image>=0.22.0->gym-pusht) (3.5)\n",
            "Requirement already satisfied: pillow>=10.1 in /usr/local/lib/python3.11/site-packages (from scikit-image>=0.22.0->gym-pusht) (11.2.1)\n",
            "Requirement already satisfied: imageio!=2.35.0,>=2.33 in /usr/local/lib/python3.11/site-packages (from scikit-image>=0.22.0->gym-pusht) (2.37.0)\n",
            "Collecting tifffile>=2022.8.12 (from scikit-image>=0.22.0->gym-pusht)\n",
            "  Downloading tifffile-2025.6.11-py3-none-any.whl.metadata (32 kB)\n",
            "Requirement already satisfied: packaging>=21 in /usr/local/lib/python3.11/site-packages (from scikit-image>=0.22.0->gym-pusht) (24.2)\n",
            "Collecting lazy-loader>=0.4 (from scikit-image>=0.22.0->gym-pusht)\n",
            "  Downloading lazy_loader-0.4-py3-none-any.whl.metadata (7.6 kB)\n",
            "Requirement already satisfied: pycparser in /usr/local/lib/python3.11/site-packages (from cffi>=1.17.1->pymunk>=6.6.0->gym-pusht) (2.22)\n",
            "Downloading gym_pusht-0.1.5-py3-none-any.whl (16 kB)\n",
            "Downloading opencv_python-4.11.0.86-cp37-abi3-manylinux_2_17_x86_64.manylinux2014_x86_64.whl (63.0 MB)\n",
            "\u001b[2K   \u001b[90m━━━━━━━━━━━━━━━━━━━━━━━━━━━━━━━━━━━━━━━━\u001b[0m \u001b[32m63.0/63.0 MB\u001b[0m \u001b[31m41.6 MB/s\u001b[0m eta \u001b[36m0:00:00\u001b[0m\n",
            "\u001b[?25hDownloading pygame-2.6.1-cp311-cp311-manylinux_2_17_x86_64.manylinux2014_x86_64.whl (14.0 MB)\n",
            "\u001b[2K   \u001b[90m━━━━━━━━━━━━━━━━━━━━━━━━━━━━━━━━━━━━━━━━\u001b[0m \u001b[32m14.0/14.0 MB\u001b[0m \u001b[31m63.3 MB/s\u001b[0m eta \u001b[36m0:00:00\u001b[0m\n",
            "\u001b[?25hDownloading scikit_image-0.25.2-cp311-cp311-manylinux_2_17_x86_64.manylinux2014_x86_64.whl (14.8 MB)\n",
            "\u001b[2K   \u001b[90m━━━━━━━━━━━━━━━━━━━━━━━━━━━━━━━━━━━━━━━━\u001b[0m \u001b[32m14.8/14.8 MB\u001b[0m \u001b[31m68.2 MB/s\u001b[0m eta \u001b[36m0:00:00\u001b[0m\n",
            "\u001b[?25hDownloading shapely-2.1.1-cp311-cp311-manylinux_2_17_x86_64.manylinux2014_x86_64.whl (3.1 MB)\n",
            "\u001b[2K   \u001b[90m━━━━━━━━━━━━━━━━━━━━━━━━━━━━━━━━━━━━━━━━\u001b[0m \u001b[32m3.1/3.1 MB\u001b[0m \u001b[31m68.2 MB/s\u001b[0m eta \u001b[36m0:00:00\u001b[0m\n",
            "\u001b[?25hDownloading lazy_loader-0.4-py3-none-any.whl (12 kB)\n",
            "Downloading tifffile-2025.6.11-py3-none-any.whl (230 kB)\n",
            "Installing collected packages: tifffile, shapely, pygame, opencv-python, lazy-loader, scikit-image, gym-pusht\n",
            "Successfully installed gym-pusht-0.1.5 lazy-loader-0.4 opencv-python-4.11.0.86 pygame-2.6.1 scikit-image-0.25.2 shapely-2.1.1 tifffile-2025.6.11\n"
          ]
        }
      ]
    },
    {
      "cell_type": "code",
      "source": [
        "%cd /content/lerobot\n",
        "!pip install -e ."
      ],
      "metadata": {
        "collapsed": true,
        "id": "bozOdhksdxul"
      },
      "execution_count": null,
      "outputs": []
    },
    {
      "cell_type": "code",
      "source": [
        "!ls -R /content/lerobot | head -n 100\n",
        "\n"
      ],
      "metadata": {
        "collapsed": true,
        "id": "vuIzXfmydK3Q"
      },
      "execution_count": null,
      "outputs": []
    },
    {
      "cell_type": "markdown",
      "source": [
        "part 2"
      ],
      "metadata": {
        "id": "7QrsgAgJdhRN"
      }
    },
    {
      "cell_type": "code",
      "source": [
        "!ls /content/lerobot/lerobot/scripts"
      ],
      "metadata": {
        "id": "QQ9z7OJLSCpN"
      },
      "execution_count": null,
      "outputs": []
    },
    {
      "cell_type": "code",
      "source": [
        "!python /content/lerobot/lerobot/scripts/eval.py  --help\n"
      ],
      "metadata": {
        "collapsed": true,
        "id": "zqb7IWYeTQsU"
      },
      "execution_count": null,
      "outputs": []
    },
    {
      "cell_type": "markdown",
      "metadata": {
        "id": "jJYVxw36_wbu"
      },
      "source": [
        "## Login into Hugging Face Hub\n",
        "Now after training is done login into the Hugging Face hub and upload the last checkpoint"
      ]
    },
    {
      "cell_type": "code",
      "execution_count": null,
      "metadata": {
        "id": "8yu5khQGIHi6"
      },
      "outputs": [],
      "source": [
        "!huggingface-cli login"
      ]
    },
    {
      "cell_type": "code",
      "execution_count": null,
      "metadata": {
        "id": "zFMLGuVkH7UN"
      },
      "outputs": [],
      "source": [
        "!huggingface-cli upload ${HF_USER}/my_smolvla \\\n",
        "  /content/lerobot/outputs/train/my_smolvla/checkpoints/last/pretrained_model"
      ]
    },
    {
      "cell_type": "code",
      "source": [],
      "metadata": {
        "id": "ZCcNYES-E3jX"
      },
      "execution_count": null,
      "outputs": []
    }
  ],
  "metadata": {
    "accelerator": "GPU",
    "colab": {
      "gpuType": "T4",
      "provenance": [],
      "include_colab_link": true
    },
    "kernelspec": {
      "display_name": "Python 3",
      "name": "python3"
    },
    "language_info": {
      "name": "python"
    }
  },
  "nbformat": 4,
  "nbformat_minor": 0
}