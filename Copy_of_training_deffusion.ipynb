{
  "cells": [
    {
      "cell_type": "markdown",
      "metadata": {
        "id": "view-in-github",
        "colab_type": "text"
      },
      "source": [
        "<a href=\"https://colab.research.google.com/github/chakri9m/Chakri/blob/main/Copy_of_training_deffusion.ipynb\" target=\"_parent\"><img src=\"https://colab.research.google.com/assets/colab-badge.svg\" alt=\"Open In Colab\"/></a>"
      ]
    },
    {
      "cell_type": "markdown",
      "metadata": {
        "id": "NQUk3Y0WwYZ4"
      },
      "source": [
        "# 🤗 x 🦾: Training pusht with LeRobot Notebook\n",
        "\n",
        "Welcome to the **LeRobot pusht training notebook**! This notebook provides a ready-to-run setup for training imitation learning policies using the [🤗 LeRobot](https://github.com/huggingface/lerobot) library.\n",
        "\n",
        "In this example, we train an `pusht` policy using a dataset hosted on the [Hugging Face Hub](https://huggingface.co/), and optionally track training metrics with [Weights & Biases (wandb)](https://wandb.ai/).\n",
        "\n",
        "## ⚙️ Requirements\n",
        "- A Hugging Face dataset repo ID containing your training data (`--dataset.repo_id=YOUR_USERNAME/YOUR_DATASET`)\n",
        "- Optional: A [wandb](https://wandb.ai/) account if you want to enable training visualization\n",
        "- Recommended: GPU runtime (e.g., NVIDIA A100) for faster training\n",
        "\n",
        "## ⏱️ Expected Training Time\n",
        "Training with the `diffusion-pusht` policy for 20,000 steps typically takes **about 5 hours on an NVIDIA A100** GPU. On less powerful GPUs or CPUs, training may take significantly longer!\n",
        "\n",
        "## Example Output\n",
        "Model checkpoints, logs, and training plots will be saved to the specified `--output_dir`. If `wandb` is enabled, progress will also be visualized in your wandb project dashboard.\n"
      ]
    },
    {
      "cell_type": "markdown",
      "metadata": {
        "id": "MOJyX0CnwA5m"
      },
      "source": [
        "## Install conda\n",
        "This cell uses `condacolab` to bootstrap a full Conda environment inside Google Colab.\n"
      ]
    },
    {
      "cell_type": "code",
      "execution_count": 1,
      "metadata": {
        "colab": {
          "base_uri": "https://localhost:8080/"
        },
        "id": "QlKjL1X5t_zM",
        "outputId": "a023255e-a534-4c6d-d15f-c6571ed0a59b"
      },
      "outputs": [
        {
          "output_type": "stream",
          "name": "stdout",
          "text": [
            "⏬ Downloading https://github.com/jaimergp/miniforge/releases/download/24.11.2-1_colab/Miniforge3-colab-24.11.2-1_colab-Linux-x86_64.sh...\n",
            "📦 Installing...\n",
            "📌 Adjusting configuration...\n",
            "🩹 Patching environment...\n",
            "⏲ Done in 0:00:08\n",
            "🔁 Restarting kernel...\n"
          ]
        }
      ],
      "source": [
        "!pip install -q condacolab\n",
        "import condacolab\n",
        "condacolab.install()"
      ]
    },
    {
      "cell_type": "code",
      "source": [
        "from google.colab import drive\n",
        "drive.mount('/content/drive')"
      ],
      "metadata": {
        "id": "FP1XBLnm_8ZY",
        "outputId": "8b038e8d-9a6e-424c-baec-fbf9eb5c7ded",
        "colab": {
          "base_uri": "https://localhost:8080/"
        }
      },
      "execution_count": 2,
      "outputs": [
        {
          "output_type": "stream",
          "name": "stdout",
          "text": [
            "Mounted at /content/drive\n"
          ]
        }
      ]
    },
    {
      "cell_type": "markdown",
      "metadata": {
        "id": "DxCc3CARwUjN"
      },
      "source": [
        "## Install LeRobot\n",
        "This cell clones the `lerobot` repository from Hugging Face, installs FFmpeg (version 7.1.1), and installs the package in editable mode.\n"
      ]
    },
    {
      "cell_type": "code",
      "source": [
        "!git clone https://github.com/huggingface/lerobot.git\n",
        "!conda install ffmpeg=7.1.1 -c conda-forge\n",
        "!cd lerobot && pip install -e ."
      ],
      "metadata": {
        "collapsed": true,
        "colab": {
          "base_uri": "https://localhost:8080/"
        },
        "id": "ie6yMzrRCMDV",
        "outputId": "a2318fc3-d136-4111-9465-4ba7c1d68acb"
      },
      "execution_count": null,
      "outputs": [
        {
          "output_type": "stream",
          "name": "stdout",
          "text": [
            "Cloning into 'lerobot'...\n",
            "remote: Enumerating objects: 31594, done.\u001b[K\n",
            "remote: Counting objects: 100% (316/316), done.\u001b[K\n",
            "remote: Compressing objects: 100% (134/134), done.\u001b[K\n"
          ]
        }
      ]
    },
    {
      "cell_type": "code",
      "source": [
        "!git clone https://huggingface.co/lerobot/diffusion_pusht\n"
      ],
      "metadata": {
        "id": "bvTx_A_2CEIa"
      },
      "execution_count": null,
      "outputs": []
    },
    {
      "cell_type": "code",
      "source": [
        "%cd diffusion_pusht\n",
        "!pip install -e .\n",
        "%cd ..\n"
      ],
      "metadata": {
        "collapsed": true,
        "id": "uPGuPnhoCSAI"
      },
      "execution_count": null,
      "outputs": []
    },
    {
      "cell_type": "code",
      "source": [
        "!pip install -e /content/lerobot\n"
      ],
      "metadata": {
        "collapsed": true,
        "id": "E6E7zaFYElyR"
      },
      "execution_count": null,
      "outputs": []
    },
    {
      "cell_type": "markdown",
      "metadata": {
        "id": "Q8Sn2wG4wldo"
      },
      "source": [
        "## Weights & Biases login\n",
        "This cell logs you into Weights & Biases (wandb) to enable experiment tracking and logging."
      ]
    },
    {
      "cell_type": "code",
      "execution_count": null,
      "metadata": {
        "id": "PolVM_movEvp",
        "collapsed": true
      },
      "outputs": [],
      "source": [
        "!wandb login"
      ]
    },
    {
      "cell_type": "markdown",
      "metadata": {
        "id": "PnlX9Sdp_wbt"
      },
      "source": [
        "## Install pusht dependencies"
      ]
    },
    {
      "cell_type": "code",
      "source": [
        "!pip install -e lerobot\n"
      ],
      "metadata": {
        "collapsed": true,
        "id": "JQxuOq1WC8Az"
      },
      "execution_count": null,
      "outputs": []
    },
    {
      "cell_type": "code",
      "execution_count": null,
      "metadata": {
        "collapsed": true,
        "id": "LK5201wr_wbt"
      },
      "outputs": [],
      "source": [
        "!cd lerobot && pip install -e"
      ]
    },
    {
      "cell_type": "code",
      "source": [
        "!ls /content/lerobot\n"
      ],
      "metadata": {
        "id": "CCmhDBrbfpLO"
      },
      "execution_count": null,
      "outputs": []
    },
    {
      "cell_type": "code",
      "source": [
        "!ls /content/lerobot/examples\n"
      ],
      "metadata": {
        "id": "7SLHRHTLf8my",
        "collapsed": true
      },
      "execution_count": null,
      "outputs": []
    },
    {
      "cell_type": "code",
      "source": [
        "!find /content/lerobot -name train.py\n"
      ],
      "metadata": {
        "id": "nZRrLfXXgJIW",
        "collapsed": true
      },
      "execution_count": null,
      "outputs": []
    },
    {
      "cell_type": "code",
      "source": [
        "!pip install datasets\n",
        "\n"
      ],
      "metadata": {
        "collapsed": true,
        "id": "sobp3iotQ9Jb"
      },
      "execution_count": null,
      "outputs": []
    },
    {
      "cell_type": "code",
      "source": [
        "!python /content/lerobot/src/lerobot/scripts/train.py\\\n",
        "    --output_dir=outputs/train/diffusion_pusht \\\n",
        "    --policy.type=diffusion \\\n",
        "    --dataset.repo_id=lerobot/pusht \\\n",
        "    --seed=100000 \\\n",
        "    --env.type=pusht \\\n",
        "    --batch_size=64 \\\n",
        "    --steps=200000 \\\n",
        "    --eval_freq=25000 \\\n",
        "    --save_freq=25000 \\\n",
        "    --wandb.enable=true \\\n",
        "    --policy.repo_id=local\n",
        "\n"
      ],
      "metadata": {
        "id": "nXjjAo7G_nEI",
        "collapsed": true
      },
      "execution_count": null,
      "outputs": []
    },
    {
      "cell_type": "code",
      "source": [
        "!pip install gym-pusht\n"
      ],
      "metadata": {
        "collapsed": true,
        "id": "3UDmVUUOOnP7"
      },
      "execution_count": null,
      "outputs": []
    },
    {
      "cell_type": "code",
      "source": [
        "!pip install -e \".[aloha, pusht]\""
      ],
      "metadata": {
        "collapsed": true,
        "id": "9M5ej2Lnv1W7"
      },
      "execution_count": null,
      "outputs": []
    },
    {
      "cell_type": "code",
      "source": [
        "!pip install --upgrade pymunk\n"
      ],
      "metadata": {
        "id": "YsLDzKxpe22L"
      },
      "execution_count": null,
      "outputs": []
    },
    {
      "cell_type": "code",
      "source": [
        "# Core system tools\n",
        "!apt-get update && apt-get install -y ffmpeg xvfb\n",
        "\n",
        "# Python libraries\n",
        "!pip install pymunk gymnasium[all]==0.28.1 pygame imageio\n",
        "\n",
        "# Install gym-pusht and LeRobot from latest sources\n",
        "!pip install git+https://github.com/huggingface/gym-pusht.git\n",
        "!pip install git+https://github.com/huggingface/lerobot.git\n"
      ],
      "metadata": {
        "id": "gYKlTslqftqs"
      },
      "execution_count": null,
      "outputs": []
    },
    {
      "cell_type": "code",
      "source": [
        "import os\n",
        "import subprocess\n",
        "\n",
        "# Start virtual display so GUI-based rendering works on Colab\n",
        "subprocess.Popen([\"Xvfb\", \":1\", \"-screen\", \"0\", \"1280x720x24\"])\n",
        "os.environ[\"DISPLAY\"] = \":1\"\n"
      ],
      "metadata": {
        "id": "jHNlcQyjgJL8"
      },
      "execution_count": null,
      "outputs": []
    },
    {
      "cell_type": "code",
      "source": [
        "# Install system dependencies\n",
        "!apt-get update && apt-get install -y ffmpeg xvfb\n",
        "\n",
        "# Install Python packages\n",
        "!pip install gymnasium==0.28.1  # Stable Gymnasium version\n",
        "!pip install pymunk             # Physics engine required by gym-pusht\n",
        "!pip install gym-pusht          # The PushT gym environment\n",
        "!pip install git+https://github.com/huggingface/lerobot.git  # LeRobot library\n"
      ],
      "metadata": {
        "collapsed": true,
        "id": "uACmg2hfh2si"
      },
      "execution_count": null,
      "outputs": []
    },
    {
      "cell_type": "code",
      "source": [
        "import os\n",
        "import subprocess\n",
        "\n",
        "# Start Xvfb virtual display (required for headless rendering)\n",
        "subprocess.Popen([\"Xvfb\", \":1\", \"-screen\", \"0\", \"1280x720x24\"])\n",
        "os.environ[\"DISPLAY\"] = \":1\"\n"
      ],
      "metadata": {
        "id": "MCE95YZhiHcs"
      },
      "execution_count": null,
      "outputs": []
    },
    {
      "cell_type": "code",
      "source": [
        "!python /content/lerobot/examples/2_evaluate_pretrained_policy.py \\\n",
        "    --policy.path=outputs/train/diffusion_pusht/checkpoints/175000/pretrained_model \\\n",
        "    --env.type=pusht \\\n",
        "    --eval.n_episodes=500 \\\n",
        "    --eval.batch_size=50\n"
      ],
      "metadata": {
        "collapsed": true,
        "id": "uutrBYRphozB"
      },
      "execution_count": null,
      "outputs": []
    },
    {
      "cell_type": "code",
      "source": [
        "\n",
        "from IPython.display import Video\n",
        "\n",
        "Video(\"/content/outputs/eval/multiple_locations/rollout_1\", embed=True, width=600)\n"
      ],
      "metadata": {
        "id": "Zs2royd_iwx-",
        "collapsed": true
      },
      "execution_count": null,
      "outputs": []
    },
    {
      "cell_type": "code",
      "source": [
        "!python /content/lerobot/src/lerobot/scripts/eval.py \\\n",
        "    --policy.path=outputs/train/diffusion_pusht/checkpoints/175000/pretrained_model \\\n",
        "    --output_dir=outputs/eval/diffusion_pusht/175000 \\\n",
        "    --env.type=pusht \\\n",
        "    --eval.n_episodes=500 \\\n",
        "    --eval.batch_size=50\n"
      ],
      "metadata": {
        "collapsed": true,
        "id": "jl9wi5Q8hLIG"
      },
      "execution_count": null,
      "outputs": []
    },
    {
      "cell_type": "code",
      "source": [
        "!python /content/lerobot/src/lerobot/scripts/eval.py \\\n",
        "    --policy.path=outputs/train/diffusion_pusht/checkpoints/175000/pretrained_model \\\n",
        "    --output_dir=outputs/eval/diffusion_pusht/175000 \\\n",
        "    --env.type=pusht \\\n",
        "    --eval.n_episodes=500 \\\n",
        "    --eval.batch_size=50 \\\n",
        "    --device=cuda \\\n",
        "    --use_amp=false"
      ],
      "metadata": {
        "collapsed": true,
        "id": "Cy-KJ8wQGXrP"
      },
      "execution_count": null,
      "outputs": []
    },
    {
      "cell_type": "code",
      "source": [
        "%cd /content/lerobot\n",
        "!pip install -e ."
      ],
      "metadata": {
        "collapsed": true,
        "id": "bozOdhksdxul"
      },
      "execution_count": null,
      "outputs": []
    },
    {
      "cell_type": "code",
      "source": [
        "!ls -R /content/lerobot | head -n 100\n",
        "\n"
      ],
      "metadata": {
        "collapsed": true,
        "id": "vuIzXfmydK3Q"
      },
      "execution_count": null,
      "outputs": []
    },
    {
      "cell_type": "markdown",
      "source": [
        "part 2"
      ],
      "metadata": {
        "id": "7QrsgAgJdhRN"
      }
    },
    {
      "cell_type": "code",
      "source": [
        "!ls /content/lerobot/lerobot/scripts"
      ],
      "metadata": {
        "id": "QQ9z7OJLSCpN"
      },
      "execution_count": null,
      "outputs": []
    },
    {
      "cell_type": "code",
      "source": [
        "!python /content/lerobot/lerobot/scripts/eval.py  --help\n"
      ],
      "metadata": {
        "collapsed": true,
        "id": "zqb7IWYeTQsU"
      },
      "execution_count": null,
      "outputs": []
    },
    {
      "cell_type": "code",
      "source": [
        "from huggingface_hub import notebook_login\n",
        "notebook_login()\n",
        "\n"
      ],
      "metadata": {
        "id": "YkQDdJIuJEE2"
      },
      "execution_count": null,
      "outputs": []
    },
    {
      "cell_type": "code",
      "source": [
        "import json\n",
        "import os\n",
        "\n",
        "info = {\n",
        "    \"codebase_version\": \"0.0.1\",\n",
        "    \"features\": {\n",
        "        \"image\": {\n",
        "            \"dtype\": \"uint8\",\n",
        "            \"shape\": [128, 128, 3]\n",
        "        },\n",
        "        \"action\": {\n",
        "            \"dtype\": \"float32\",\n",
        "            \"shape\": [7]\n",
        "        }\n",
        "    }\n",
        "}\n",
        "\n",
        "os.makedirs(\"/content/move_to_box/meta\", exist_ok=True)\n",
        "\n",
        "with open(\"/content/move_to_box/meta/info.json\", \"w\") as f:\n",
        "    json.dump(info, f, indent=2)\n",
        "\n",
        "print(\"✅ Fixed info.json written.\")\n"
      ],
      "metadata": {
        "id": "5DIvniJRKY8l"
      },
      "execution_count": null,
      "outputs": []
    },
    {
      "cell_type": "markdown",
      "source": [],
      "metadata": {
        "id": "okfcyApFisCm"
      }
    },
    {
      "cell_type": "code",
      "source": [
        "!git clone https://huggingface.co/Frontier-Machines/move_to_box\n"
      ],
      "metadata": {
        "id": "8iY3bMCOTnVF"
      },
      "execution_count": null,
      "outputs": []
    },
    {
      "cell_type": "code",
      "source": [
        "!cd move_to_box && ls -l\n",
        "\n"
      ],
      "metadata": {
        "id": "912QK1LRT8_o"
      },
      "execution_count": null,
      "outputs": []
    },
    {
      "cell_type": "code",
      "source": [
        "!head -40 move_to_box/README.md\n"
      ],
      "metadata": {
        "collapsed": true,
        "id": "EE-p9VF8UKKn"
      },
      "execution_count": null,
      "outputs": []
    },
    {
      "cell_type": "code",
      "source": [
        "from lerobot.policies.diffusion.modeling_diffusion import DiffusionPolicy\n",
        "\n"
      ],
      "metadata": {
        "collapsed": true,
        "id": "sTVN47noe_66"
      },
      "execution_count": null,
      "outputs": []
    },
    {
      "cell_type": "code",
      "source": [
        "# Change this to any of the supported ones from HuggingFace\n",
        "!pretrained_policy_path = \"lerobot/diffusion_open_drawer\"\n",
        "\n",
        "!policy = DiffusionPolicy.from_pretrained(pretrained_policy_path)\n"
      ],
      "metadata": {
        "id": "sfbsJWWmjp5X"
      },
      "execution_count": null,
      "outputs": []
    },
    {
      "cell_type": "code",
      "source": [
        "!pip install lerobot\n"
      ],
      "metadata": {
        "collapsed": true,
        "id": "QlY9kS08UYGa"
      },
      "execution_count": null,
      "outputs": []
    },
    {
      "cell_type": "code",
      "source": [
        "ls -l /content/movetobox.py\n"
      ],
      "metadata": {
        "id": "kOh0Po-4Vzgo"
      },
      "execution_count": null,
      "outputs": []
    },
    {
      "cell_type": "code",
      "source": [
        "import lerobot\n",
        "import pkgutil\n",
        "\n",
        "print(\"lerobot submodules:\")\n",
        "for mod in pkgutil.iter_modules(lerobot.__path__):\n",
        "    print(mod.name)\n"
      ],
      "metadata": {
        "id": "cMg9EQK5WBLA"
      },
      "execution_count": null,
      "outputs": []
    },
    {
      "cell_type": "code",
      "source": [
        "!python /content/drive/MyDrive/movetobox.py\n"
      ],
      "metadata": {
        "collapsed": true,
        "id": "QseFqk9or3s_"
      },
      "execution_count": null,
      "outputs": []
    },
    {
      "cell_type": "code",
      "source": [
        "!ls /content/lerobot/src\n",
        "\n"
      ],
      "metadata": {
        "id": "7kLLYqBfN49a"
      },
      "execution_count": null,
      "outputs": []
    },
    {
      "cell_type": "code",
      "source": [
        "import sys\n",
        "sys.path.append('/content/lerobot/src')\n"
      ],
      "metadata": {
        "id": "-awHZPwSPL-M"
      },
      "execution_count": null,
      "outputs": []
    },
    {
      "cell_type": "markdown",
      "source": [
        "WHy?"
      ],
      "metadata": {
        "id": "_jzy9zwVsWaD"
      }
    },
    {
      "cell_type": "code",
      "source": [
        "!python -m lerobot.datasets.v2.convert_dataset_v1_to_v2 \\\n",
        "    --repo-id Frontier-Machines/move_to_box \\\n",
        "    --single-task \"Pick up the cube and place it into the box.\" \\\n",
        "    --robot koch_follower\n",
        "\n"
      ],
      "metadata": {
        "id": "-46pt8myMg-n"
      },
      "execution_count": null,
      "outputs": []
    },
    {
      "cell_type": "code",
      "source": [
        "!pip install gymnasium imageio torch gym_pusht\n"
      ],
      "metadata": {
        "collapsed": true,
        "id": "ADD1R6Eqkft1"
      },
      "execution_count": null,
      "outputs": []
    },
    {
      "cell_type": "code",
      "source": [
        "!pip install gym"
      ],
      "metadata": {
        "id": "d2BzPhr8uaeb"
      },
      "execution_count": null,
      "outputs": []
    },
    {
      "cell_type": "code",
      "source": [
        "!python \"/content/movetobox.py\"\n"
      ],
      "metadata": {
        "id": "03gpWiPLacX2"
      },
      "execution_count": null,
      "outputs": []
    },
    {
      "cell_type": "code",
      "source": [
        "!python -m lerobot.scripts.visualize_dataset \\\n",
        "    --repo-id=lerobot/pusht \\\n",
        "    --episode-index=0 \\\n",
        "    --output-dir=/content/lerobot/outputs/visualized_episode \\\n",
        "    --save=1 \\\n",
        "    --mode=rgb\n",
        "\n"
      ],
      "metadata": {
        "collapsed": true,
        "id": "PfQCSuk3xbkC"
      },
      "execution_count": null,
      "outputs": []
    },
    {
      "cell_type": "code",
      "source": [
        "!python -m lerobot.scripts.visualize_dataset \\\n",
        "    --repo-id lerobot/pusht \\\n",
        "    --root ./my_local_data_dir \\\n",
        "    --local-files-only 1 \\\n",
        "    --episode-index 0"
      ],
      "metadata": {
        "id": "SAwnZo-G_4-s"
      },
      "execution_count": null,
      "outputs": []
    },
    {
      "cell_type": "markdown",
      "metadata": {
        "id": "jJYVxw36_wbu"
      },
      "source": [
        "## Login into Hugging Face Hub\n",
        "Now after training is done login into the Hugging Face hub and upload the last checkpoint"
      ]
    },
    {
      "cell_type": "code",
      "execution_count": null,
      "metadata": {
        "id": "8yu5khQGIHi6"
      },
      "outputs": [],
      "source": [
        "!huggingface-cli login"
      ]
    },
    {
      "cell_type": "code",
      "execution_count": null,
      "metadata": {
        "id": "zFMLGuVkH7UN"
      },
      "outputs": [],
      "source": [
        "!huggingface-cli upload ${HF_USER}/my_smolvla \\\n",
        "  /content/lerobot/outputs/train/my_smolvla/checkpoints/last/pretrained_model"
      ]
    },
    {
      "cell_type": "code",
      "source": [
        "from huggingface_hub import hf_hub_download\n",
        "\n",
        "# Download the SEPO fine-tuned model checkpoint from Hugging Face Hub\n",
        "ckpt_path = hf_hub_download(\n",
        "    repo_id=\"Xssama/SEPO_DNA\",\n",
        "    filename=\"finetuned_sepo_kl.ckpt\",  # or \"finetuned_sepo_kl_gf.ckpt\"\n",
        "    cache_dir=\"./checkpoints\"  # optional: local cache folder\n",
        ")\n",
        "\n",
        "print(f\"Checkpoint downloaded to: {ckpt_path}\")\n"
      ],
      "metadata": {
        "id": "ZCcNYES-E3jX"
      },
      "execution_count": null,
      "outputs": []
    },
    {
      "cell_type": "code",
      "source": [
        "!git clone https://github.com/ozekri/SEPO.git\n"
      ],
      "metadata": {
        "id": "3qn2gmaFl_KI"
      },
      "execution_count": null,
      "outputs": []
    },
    {
      "cell_type": "code",
      "source": [
        "!find SEPO -name \"*.py\"\n"
      ],
      "metadata": {
        "id": "jY7brmj6mpYy"
      },
      "execution_count": null,
      "outputs": []
    },
    {
      "cell_type": "code",
      "source": [
        "sys.path.append('./SEPO/src')\n",
        "from model import SEPOModel\n"
      ],
      "metadata": {
        "id": "wWMl0jT7mgNg"
      },
      "execution_count": null,
      "outputs": []
    },
    {
      "cell_type": "code",
      "source": [
        "import sys\n",
        "sys.path.append('./SEPO')  # Add SEPO repo folder to path\n",
        "\n",
        "from src.model import SEPOModel  # or correct import path from the repo\n",
        "\n",
        "# Now load checkpoint and use model as explained earlier\n",
        "checkpoint_path = \"/content/checkpoints/models--Xssama--SEPO_DNA/snapshots/a531d9b9c8ee0134b426d7a3543fdd4d1d50bccf/finetuned_sepo_kl.ckpt\"\n",
        "model = SEPOModel()\n",
        "checkpoint = torch.load(checkpoint_path, map_location='cpu')\n",
        "model.load_state_dict(checkpoint['state_dict'])\n",
        "model.eval()\n",
        "\n",
        "# Dummy input\n",
        "input_tensor = torch.randn(1, 3, 224, 224)\n",
        "with torch.no_grad():\n",
        "    output = model(input_tensor)\n",
        "\n",
        "print(output)\n",
        "\n"
      ],
      "metadata": {
        "id": "ThWTWMXyl2bc"
      },
      "execution_count": null,
      "outputs": []
    },
    {
      "cell_type": "code",
      "source": [
        "!git clone https://huggingface.co/Frontier-Machines/move_to_box"
      ],
      "metadata": {
        "id": "O5g8KRIzDvVG"
      },
      "execution_count": null,
      "outputs": []
    },
    {
      "cell_type": "code",
      "source": [
        "cd move_to_box\n"
      ],
      "metadata": {
        "id": "aiobr0ixEnTj"
      },
      "execution_count": null,
      "outputs": []
    },
    {
      "cell_type": "code",
      "source": [
        "ls\n"
      ],
      "metadata": {
        "id": "gT0pRUAoE37Z"
      },
      "execution_count": null,
      "outputs": []
    },
    {
      "cell_type": "code",
      "source": [
        "ls train/\n"
      ],
      "metadata": {
        "id": "CW9-3y18FITz"
      },
      "execution_count": null,
      "outputs": []
    },
    {
      "cell_type": "code",
      "source": [
        "cat config.json\n"
      ],
      "metadata": {
        "id": "h_-_1sTaFYwL"
      },
      "execution_count": null,
      "outputs": []
    },
    {
      "cell_type": "code",
      "source": [
        "!python train/train.py --config config.json\n"
      ],
      "metadata": {
        "id": "lwFcK5HnFcTz"
      },
      "execution_count": null,
      "outputs": []
    },
    {
      "cell_type": "code",
      "source": [
        "ls -R /content/move_to_box/train\n"
      ],
      "metadata": {
        "id": "5SBTpW3pFq-o"
      },
      "execution_count": null,
      "outputs": []
    },
    {
      "cell_type": "code",
      "source": [
        "ls -R /content/move_to_box\n"
      ],
      "metadata": {
        "collapsed": true,
        "id": "ZiBz5KioFyb9"
      },
      "execution_count": null,
      "outputs": []
    },
    {
      "cell_type": "code",
      "source": [
        "!git clone https://huggingface.co/Frontier-Machines/move_to_duct_tape"
      ],
      "metadata": {
        "id": "QDfsRaSnHMVY"
      },
      "execution_count": null,
      "outputs": []
    },
    {
      "cell_type": "code",
      "source": [
        "cd move_to_duct_tape"
      ],
      "metadata": {
        "id": "IdmF3jbfHxxl"
      },
      "execution_count": null,
      "outputs": []
    },
    {
      "cell_type": "code",
      "source": [
        "ls"
      ],
      "metadata": {
        "id": "_ao0MuzoH1zZ"
      },
      "execution_count": null,
      "outputs": []
    },
    {
      "cell_type": "code",
      "source": [
        "!head -40 /content/move_to_box/move_to_duct_tape/README.md\n"
      ],
      "metadata": {
        "id": "nRYWU2MTIkTy"
      },
      "execution_count": null,
      "outputs": []
    },
    {
      "cell_type": "code",
      "source": [
        "!ls /content/lerobot"
      ],
      "metadata": {
        "id": "FjakJJawJCPJ"
      },
      "execution_count": null,
      "outputs": []
    },
    {
      "cell_type": "code",
      "source": [
        "!python /content/lerobot/src/lerobot/scripts/train.py --config /content/move_to_box/move_to_duct_tape/config.json\n",
        "\n"
      ],
      "metadata": {
        "id": "LoRaFmxqK8kS"
      },
      "execution_count": null,
      "outputs": []
    }
  ],
  "metadata": {
    "accelerator": "GPU",
    "colab": {
      "gpuType": "T4",
      "provenance": [],
      "include_colab_link": true
    },
    "kernelspec": {
      "display_name": "Python 3",
      "name": "python3"
    },
    "language_info": {
      "name": "python"
    }
  },
  "nbformat": 4,
  "nbformat_minor": 0
}